{
 "cells": [
  {
   "cell_type": "markdown",
   "id": "cff6a122",
   "metadata": {},
   "source": [
    "# Nigeria Houses Price Prediction\n",
    "\n",
    "Wazobia Real Estate Limited, a leading real estate company in Nigeria, seeks your expertise to tackle one of its crucial challenges. They are determined to provide accurate and competitive pricing for houses, but accurately predicting house prices in the current market has been a hurdle they aim to overcome. Should you accept it, your mission is to develop a powerful and accurate predictive model that can estimate house prices in Nigeria."
   ]
  },
  {
   "cell_type": "markdown",
   "id": "ec268b70",
   "metadata": {},
   "source": [
    "## Importing the neccessary libraries"
   ]
  },
  {
   "cell_type": "code",
   "execution_count": 1,
   "id": "ace73b78",
   "metadata": {},
   "outputs": [],
   "source": [
    "import pandas as pd\n",
    "import numpy as np\n",
    "import matplotlib.pyplot as plt\n",
    "import plotly.express as px\n",
    "import seaborn as sns\n",
    "import matplotlib\n",
    "\n",
    "%matplotlib inline\n",
    "import warnings\n",
    "warnings.filterwarnings(\"ignore\")"
   ]
  },
  {
   "cell_type": "markdown",
   "id": "b020bf62",
   "metadata": {},
   "source": [
    "## Reading in the data"
   ]
  },
  {
   "cell_type": "code",
   "execution_count": 2,
   "id": "d10aea4e",
   "metadata": {},
   "outputs": [],
   "source": [
    "df1 = pd.read_csv('Housing_dataset_train.csv')\n",
    "test_df = pd.read_csv('Housing_dataset_test.csv')"
   ]
  },
  {
   "cell_type": "code",
   "execution_count": 3,
   "id": "2a9f1fca",
   "metadata": {},
   "outputs": [
    {
     "data": {
      "text/html": [
       "<div>\n",
       "<style scoped>\n",
       "    .dataframe tbody tr th:only-of-type {\n",
       "        vertical-align: middle;\n",
       "    }\n",
       "\n",
       "    .dataframe tbody tr th {\n",
       "        vertical-align: top;\n",
       "    }\n",
       "\n",
       "    .dataframe thead th {\n",
       "        text-align: right;\n",
       "    }\n",
       "</style>\n",
       "<table border=\"1\" class=\"dataframe\">\n",
       "  <thead>\n",
       "    <tr style=\"text-align: right;\">\n",
       "      <th></th>\n",
       "      <th>ID</th>\n",
       "      <th>loc</th>\n",
       "      <th>title</th>\n",
       "      <th>bedroom</th>\n",
       "      <th>bathroom</th>\n",
       "      <th>parking_space</th>\n",
       "      <th>price</th>\n",
       "    </tr>\n",
       "  </thead>\n",
       "  <tbody>\n",
       "    <tr>\n",
       "      <th>0</th>\n",
       "      <td>3583</td>\n",
       "      <td>Katsina</td>\n",
       "      <td>Semi-detached duplex</td>\n",
       "      <td>2.0</td>\n",
       "      <td>2.0</td>\n",
       "      <td>1.0</td>\n",
       "      <td>1149999.565</td>\n",
       "    </tr>\n",
       "    <tr>\n",
       "      <th>1</th>\n",
       "      <td>2748</td>\n",
       "      <td>Ondo</td>\n",
       "      <td>Apartment</td>\n",
       "      <td>NaN</td>\n",
       "      <td>2.0</td>\n",
       "      <td>4.0</td>\n",
       "      <td>1672416.689</td>\n",
       "    </tr>\n",
       "    <tr>\n",
       "      <th>2</th>\n",
       "      <td>9261</td>\n",
       "      <td>Ekiti</td>\n",
       "      <td>NaN</td>\n",
       "      <td>7.0</td>\n",
       "      <td>5.0</td>\n",
       "      <td>NaN</td>\n",
       "      <td>3364799.814</td>\n",
       "    </tr>\n",
       "    <tr>\n",
       "      <th>3</th>\n",
       "      <td>2224</td>\n",
       "      <td>Anambra</td>\n",
       "      <td>Detached duplex</td>\n",
       "      <td>5.0</td>\n",
       "      <td>2.0</td>\n",
       "      <td>4.0</td>\n",
       "      <td>2410306.756</td>\n",
       "    </tr>\n",
       "    <tr>\n",
       "      <th>4</th>\n",
       "      <td>10300</td>\n",
       "      <td>Kogi</td>\n",
       "      <td>Terrace duplex</td>\n",
       "      <td>NaN</td>\n",
       "      <td>5.0</td>\n",
       "      <td>6.0</td>\n",
       "      <td>2600700.898</td>\n",
       "    </tr>\n",
       "  </tbody>\n",
       "</table>\n",
       "</div>"
      ],
      "text/plain": [
       "      ID      loc                 title  bedroom  bathroom  parking_space  \\\n",
       "0   3583  Katsina  Semi-detached duplex      2.0       2.0            1.0   \n",
       "1   2748     Ondo             Apartment      NaN       2.0            4.0   \n",
       "2   9261    Ekiti                   NaN      7.0       5.0            NaN   \n",
       "3   2224  Anambra       Detached duplex      5.0       2.0            4.0   \n",
       "4  10300     Kogi        Terrace duplex      NaN       5.0            6.0   \n",
       "\n",
       "         price  \n",
       "0  1149999.565  \n",
       "1  1672416.689  \n",
       "2  3364799.814  \n",
       "3  2410306.756  \n",
       "4  2600700.898  "
      ]
     },
     "execution_count": 3,
     "metadata": {},
     "output_type": "execute_result"
    }
   ],
   "source": [
    "## Train dataset\n",
    "df1.head()"
   ]
  },
  {
   "cell_type": "code",
   "execution_count": 4,
   "id": "60ac592f",
   "metadata": {},
   "outputs": [
    {
     "data": {
      "text/plain": [
       "(14000, 7)"
      ]
     },
     "execution_count": 4,
     "metadata": {},
     "output_type": "execute_result"
    }
   ],
   "source": [
    "df1.shape"
   ]
  },
  {
   "cell_type": "markdown",
   "id": "c8a1960c",
   "metadata": {},
   "source": [
    "We have 14000 samples in our train dataset with 7 columns including our label(what we are trying to predict)"
   ]
  },
  {
   "cell_type": "markdown",
   "id": "ad24adcd",
   "metadata": {},
   "source": [
    "## Descriptive Stats For Train dataset"
   ]
  },
  {
   "cell_type": "code",
   "execution_count": 5,
   "id": "eb7438ec",
   "metadata": {},
   "outputs": [
    {
     "data": {
      "text/html": [
       "<div>\n",
       "<style scoped>\n",
       "    .dataframe tbody tr th:only-of-type {\n",
       "        vertical-align: middle;\n",
       "    }\n",
       "\n",
       "    .dataframe tbody tr th {\n",
       "        vertical-align: top;\n",
       "    }\n",
       "\n",
       "    .dataframe thead th {\n",
       "        text-align: right;\n",
       "    }\n",
       "</style>\n",
       "<table border=\"1\" class=\"dataframe\">\n",
       "  <thead>\n",
       "    <tr style=\"text-align: right;\">\n",
       "      <th></th>\n",
       "      <th>ID</th>\n",
       "      <th>bedroom</th>\n",
       "      <th>bathroom</th>\n",
       "      <th>parking_space</th>\n",
       "      <th>price</th>\n",
       "    </tr>\n",
       "  </thead>\n",
       "  <tbody>\n",
       "    <tr>\n",
       "      <th>count</th>\n",
       "      <td>14000.000000</td>\n",
       "      <td>12201.000000</td>\n",
       "      <td>12195.000000</td>\n",
       "      <td>12189.000000</td>\n",
       "      <td>1.400000e+04</td>\n",
       "    </tr>\n",
       "    <tr>\n",
       "      <th>mean</th>\n",
       "      <td>4862.700357</td>\n",
       "      <td>4.308171</td>\n",
       "      <td>3.134235</td>\n",
       "      <td>3.169825</td>\n",
       "      <td>2.138082e+06</td>\n",
       "    </tr>\n",
       "    <tr>\n",
       "      <th>std</th>\n",
       "      <td>3818.348214</td>\n",
       "      <td>2.441165</td>\n",
       "      <td>2.035950</td>\n",
       "      <td>1.599415</td>\n",
       "      <td>1.083057e+06</td>\n",
       "    </tr>\n",
       "    <tr>\n",
       "      <th>min</th>\n",
       "      <td>0.000000</td>\n",
       "      <td>1.000000</td>\n",
       "      <td>1.000000</td>\n",
       "      <td>1.000000</td>\n",
       "      <td>4.319673e+05</td>\n",
       "    </tr>\n",
       "    <tr>\n",
       "      <th>25%</th>\n",
       "      <td>1672.750000</td>\n",
       "      <td>2.000000</td>\n",
       "      <td>1.000000</td>\n",
       "      <td>2.000000</td>\n",
       "      <td>1.393990e+06</td>\n",
       "    </tr>\n",
       "    <tr>\n",
       "      <th>50%</th>\n",
       "      <td>3527.000000</td>\n",
       "      <td>4.000000</td>\n",
       "      <td>2.000000</td>\n",
       "      <td>3.000000</td>\n",
       "      <td>1.895223e+06</td>\n",
       "    </tr>\n",
       "    <tr>\n",
       "      <th>75%</th>\n",
       "      <td>8011.250000</td>\n",
       "      <td>6.000000</td>\n",
       "      <td>5.000000</td>\n",
       "      <td>4.000000</td>\n",
       "      <td>2.586699e+06</td>\n",
       "    </tr>\n",
       "    <tr>\n",
       "      <th>max</th>\n",
       "      <td>12999.000000</td>\n",
       "      <td>9.000000</td>\n",
       "      <td>7.000000</td>\n",
       "      <td>6.000000</td>\n",
       "      <td>1.656849e+07</td>\n",
       "    </tr>\n",
       "  </tbody>\n",
       "</table>\n",
       "</div>"
      ],
      "text/plain": [
       "                 ID       bedroom      bathroom  parking_space         price\n",
       "count  14000.000000  12201.000000  12195.000000   12189.000000  1.400000e+04\n",
       "mean    4862.700357      4.308171      3.134235       3.169825  2.138082e+06\n",
       "std     3818.348214      2.441165      2.035950       1.599415  1.083057e+06\n",
       "min        0.000000      1.000000      1.000000       1.000000  4.319673e+05\n",
       "25%     1672.750000      2.000000      1.000000       2.000000  1.393990e+06\n",
       "50%     3527.000000      4.000000      2.000000       3.000000  1.895223e+06\n",
       "75%     8011.250000      6.000000      5.000000       4.000000  2.586699e+06\n",
       "max    12999.000000      9.000000      7.000000       6.000000  1.656849e+07"
      ]
     },
     "execution_count": 5,
     "metadata": {},
     "output_type": "execute_result"
    }
   ],
   "source": [
    "df1.describe()"
   ]
  },
  {
   "cell_type": "code",
   "execution_count": 6,
   "id": "f5c03d9d",
   "metadata": {},
   "outputs": [
    {
     "data": {
      "text/html": [
       "<div>\n",
       "<style scoped>\n",
       "    .dataframe tbody tr th:only-of-type {\n",
       "        vertical-align: middle;\n",
       "    }\n",
       "\n",
       "    .dataframe tbody tr th {\n",
       "        vertical-align: top;\n",
       "    }\n",
       "\n",
       "    .dataframe thead th {\n",
       "        text-align: right;\n",
       "    }\n",
       "</style>\n",
       "<table border=\"1\" class=\"dataframe\">\n",
       "  <thead>\n",
       "    <tr style=\"text-align: right;\">\n",
       "      <th></th>\n",
       "      <th>loc</th>\n",
       "      <th>title</th>\n",
       "    </tr>\n",
       "  </thead>\n",
       "  <tbody>\n",
       "    <tr>\n",
       "      <th>count</th>\n",
       "      <td>12187</td>\n",
       "      <td>12278</td>\n",
       "    </tr>\n",
       "    <tr>\n",
       "      <th>unique</th>\n",
       "      <td>36</td>\n",
       "      <td>10</td>\n",
       "    </tr>\n",
       "    <tr>\n",
       "      <th>top</th>\n",
       "      <td>Kaduna</td>\n",
       "      <td>Flat</td>\n",
       "    </tr>\n",
       "    <tr>\n",
       "      <th>freq</th>\n",
       "      <td>370</td>\n",
       "      <td>1372</td>\n",
       "    </tr>\n",
       "  </tbody>\n",
       "</table>\n",
       "</div>"
      ],
      "text/plain": [
       "           loc  title\n",
       "count    12187  12278\n",
       "unique      36     10\n",
       "top     Kaduna   Flat\n",
       "freq       370   1372"
      ]
     },
     "execution_count": 6,
     "metadata": {},
     "output_type": "execute_result"
    }
   ],
   "source": [
    "df1.describe(include='O')"
   ]
  },
  {
   "cell_type": "code",
   "execution_count": 7,
   "id": "c7116aac",
   "metadata": {},
   "outputs": [
    {
     "data": {
      "text/html": [
       "<div>\n",
       "<style scoped>\n",
       "    .dataframe tbody tr th:only-of-type {\n",
       "        vertical-align: middle;\n",
       "    }\n",
       "\n",
       "    .dataframe tbody tr th {\n",
       "        vertical-align: top;\n",
       "    }\n",
       "\n",
       "    .dataframe thead th {\n",
       "        text-align: right;\n",
       "    }\n",
       "</style>\n",
       "<table border=\"1\" class=\"dataframe\">\n",
       "  <thead>\n",
       "    <tr style=\"text-align: right;\">\n",
       "      <th></th>\n",
       "      <th>ID</th>\n",
       "      <th>loc</th>\n",
       "      <th>title</th>\n",
       "      <th>bedroom</th>\n",
       "      <th>bathroom</th>\n",
       "      <th>parking_space</th>\n",
       "    </tr>\n",
       "  </thead>\n",
       "  <tbody>\n",
       "    <tr>\n",
       "      <th>0</th>\n",
       "      <td>845</td>\n",
       "      <td>Kano</td>\n",
       "      <td>Penthouse</td>\n",
       "      <td>4</td>\n",
       "      <td>1</td>\n",
       "      <td>2</td>\n",
       "    </tr>\n",
       "    <tr>\n",
       "      <th>1</th>\n",
       "      <td>1924</td>\n",
       "      <td>Adamawa</td>\n",
       "      <td>Apartment</td>\n",
       "      <td>2</td>\n",
       "      <td>2</td>\n",
       "      <td>4</td>\n",
       "    </tr>\n",
       "    <tr>\n",
       "      <th>2</th>\n",
       "      <td>10718</td>\n",
       "      <td>Adamawa</td>\n",
       "      <td>Bungalow</td>\n",
       "      <td>2</td>\n",
       "      <td>7</td>\n",
       "      <td>2</td>\n",
       "    </tr>\n",
       "    <tr>\n",
       "      <th>3</th>\n",
       "      <td>12076</td>\n",
       "      <td>Lagos</td>\n",
       "      <td>Mansion</td>\n",
       "      <td>9</td>\n",
       "      <td>5</td>\n",
       "      <td>2</td>\n",
       "    </tr>\n",
       "    <tr>\n",
       "      <th>4</th>\n",
       "      <td>12254</td>\n",
       "      <td>Gombe</td>\n",
       "      <td>Semi-detached duplex</td>\n",
       "      <td>5</td>\n",
       "      <td>6</td>\n",
       "      <td>1</td>\n",
       "    </tr>\n",
       "  </tbody>\n",
       "</table>\n",
       "</div>"
      ],
      "text/plain": [
       "      ID      loc                 title  bedroom  bathroom  parking_space\n",
       "0    845     Kano             Penthouse        4         1              2\n",
       "1   1924  Adamawa             Apartment        2         2              4\n",
       "2  10718  Adamawa              Bungalow        2         7              2\n",
       "3  12076    Lagos               Mansion        9         5              2\n",
       "4  12254    Gombe  Semi-detached duplex        5         6              1"
      ]
     },
     "execution_count": 7,
     "metadata": {},
     "output_type": "execute_result"
    }
   ],
   "source": [
    "## Test Dataset\n",
    "test_df.head()"
   ]
  },
  {
   "cell_type": "code",
   "execution_count": 8,
   "id": "528b5f04",
   "metadata": {},
   "outputs": [
    {
     "data": {
      "text/plain": [
       "(6000, 6)"
      ]
     },
     "execution_count": 8,
     "metadata": {},
     "output_type": "execute_result"
    }
   ],
   "source": [
    "test_df.shape"
   ]
  },
  {
   "cell_type": "markdown",
   "id": "5ea9c8b8",
   "metadata": {},
   "source": [
    "The test dataset contains 6000 samples with 6 features excluding our target variable of course."
   ]
  },
  {
   "cell_type": "markdown",
   "id": "c4b7dc7a",
   "metadata": {},
   "source": [
    "## Descriptive Stats For Test dataset"
   ]
  },
  {
   "cell_type": "code",
   "execution_count": 9,
   "id": "4f425036",
   "metadata": {},
   "outputs": [
    {
     "data": {
      "text/html": [
       "<div>\n",
       "<style scoped>\n",
       "    .dataframe tbody tr th:only-of-type {\n",
       "        vertical-align: middle;\n",
       "    }\n",
       "\n",
       "    .dataframe tbody tr th {\n",
       "        vertical-align: top;\n",
       "    }\n",
       "\n",
       "    .dataframe thead th {\n",
       "        text-align: right;\n",
       "    }\n",
       "</style>\n",
       "<table border=\"1\" class=\"dataframe\">\n",
       "  <thead>\n",
       "    <tr style=\"text-align: right;\">\n",
       "      <th></th>\n",
       "      <th>ID</th>\n",
       "      <th>bedroom</th>\n",
       "      <th>bathroom</th>\n",
       "      <th>parking_space</th>\n",
       "    </tr>\n",
       "  </thead>\n",
       "  <tbody>\n",
       "    <tr>\n",
       "      <th>count</th>\n",
       "      <td>6000.000000</td>\n",
       "      <td>6000.000000</td>\n",
       "      <td>6000.000000</td>\n",
       "      <td>6000.000000</td>\n",
       "    </tr>\n",
       "    <tr>\n",
       "      <th>mean</th>\n",
       "      <td>4818.699167</td>\n",
       "      <td>4.329833</td>\n",
       "      <td>3.105667</td>\n",
       "      <td>3.132333</td>\n",
       "    </tr>\n",
       "    <tr>\n",
       "      <th>std</th>\n",
       "      <td>3832.336902</td>\n",
       "      <td>2.454733</td>\n",
       "      <td>2.033189</td>\n",
       "      <td>1.604551</td>\n",
       "    </tr>\n",
       "    <tr>\n",
       "      <th>min</th>\n",
       "      <td>2.000000</td>\n",
       "      <td>1.000000</td>\n",
       "      <td>1.000000</td>\n",
       "      <td>1.000000</td>\n",
       "    </tr>\n",
       "    <tr>\n",
       "      <th>25%</th>\n",
       "      <td>1647.000000</td>\n",
       "      <td>2.000000</td>\n",
       "      <td>1.000000</td>\n",
       "      <td>2.000000</td>\n",
       "    </tr>\n",
       "    <tr>\n",
       "      <th>50%</th>\n",
       "      <td>3433.000000</td>\n",
       "      <td>4.000000</td>\n",
       "      <td>2.000000</td>\n",
       "      <td>3.000000</td>\n",
       "    </tr>\n",
       "    <tr>\n",
       "      <th>75%</th>\n",
       "      <td>7970.000000</td>\n",
       "      <td>6.000000</td>\n",
       "      <td>5.000000</td>\n",
       "      <td>4.000000</td>\n",
       "    </tr>\n",
       "    <tr>\n",
       "      <th>max</th>\n",
       "      <td>12995.000000</td>\n",
       "      <td>9.000000</td>\n",
       "      <td>7.000000</td>\n",
       "      <td>6.000000</td>\n",
       "    </tr>\n",
       "  </tbody>\n",
       "</table>\n",
       "</div>"
      ],
      "text/plain": [
       "                 ID      bedroom     bathroom  parking_space\n",
       "count   6000.000000  6000.000000  6000.000000    6000.000000\n",
       "mean    4818.699167     4.329833     3.105667       3.132333\n",
       "std     3832.336902     2.454733     2.033189       1.604551\n",
       "min        2.000000     1.000000     1.000000       1.000000\n",
       "25%     1647.000000     2.000000     1.000000       2.000000\n",
       "50%     3433.000000     4.000000     2.000000       3.000000\n",
       "75%     7970.000000     6.000000     5.000000       4.000000\n",
       "max    12995.000000     9.000000     7.000000       6.000000"
      ]
     },
     "execution_count": 9,
     "metadata": {},
     "output_type": "execute_result"
    }
   ],
   "source": [
    "test_df.describe()"
   ]
  },
  {
   "cell_type": "code",
   "execution_count": 10,
   "id": "63017b47",
   "metadata": {},
   "outputs": [
    {
     "data": {
      "text/html": [
       "<div>\n",
       "<style scoped>\n",
       "    .dataframe tbody tr th:only-of-type {\n",
       "        vertical-align: middle;\n",
       "    }\n",
       "\n",
       "    .dataframe tbody tr th {\n",
       "        vertical-align: top;\n",
       "    }\n",
       "\n",
       "    .dataframe thead th {\n",
       "        text-align: right;\n",
       "    }\n",
       "</style>\n",
       "<table border=\"1\" class=\"dataframe\">\n",
       "  <thead>\n",
       "    <tr style=\"text-align: right;\">\n",
       "      <th></th>\n",
       "      <th>loc</th>\n",
       "      <th>title</th>\n",
       "    </tr>\n",
       "  </thead>\n",
       "  <tbody>\n",
       "    <tr>\n",
       "      <th>count</th>\n",
       "      <td>6000</td>\n",
       "      <td>6000</td>\n",
       "    </tr>\n",
       "    <tr>\n",
       "      <th>unique</th>\n",
       "      <td>36</td>\n",
       "      <td>10</td>\n",
       "    </tr>\n",
       "    <tr>\n",
       "      <th>top</th>\n",
       "      <td>Benue</td>\n",
       "      <td>Mansion</td>\n",
       "    </tr>\n",
       "    <tr>\n",
       "      <th>freq</th>\n",
       "      <td>188</td>\n",
       "      <td>673</td>\n",
       "    </tr>\n",
       "  </tbody>\n",
       "</table>\n",
       "</div>"
      ],
      "text/plain": [
       "          loc    title\n",
       "count    6000     6000\n",
       "unique     36       10\n",
       "top     Benue  Mansion\n",
       "freq      188      673"
      ]
     },
     "execution_count": 10,
     "metadata": {},
     "output_type": "execute_result"
    }
   ],
   "source": [
    "test_df.describe(include='O')"
   ]
  },
  {
   "cell_type": "markdown",
   "id": "e962831e",
   "metadata": {},
   "source": [
    "## Exploratory Data Analysis (EDA)\n"
   ]
  },
  {
   "cell_type": "code",
   "execution_count": 11,
   "id": "3b7154f3",
   "metadata": {},
   "outputs": [],
   "source": [
    "## Dropping irrelevant columns and passing it to a new varibale so our original dataset remains intact\n",
    "\n",
    "df2 = df1.drop('ID', axis=1)"
   ]
  },
  {
   "cell_type": "code",
   "execution_count": 12,
   "id": "8c15bf85",
   "metadata": {},
   "outputs": [
    {
     "name": "stdout",
     "output_type": "stream",
     "text": [
      "No. of Rows - Before Removing Duplicates:14,000\n",
      "No. of Rows - After Removing Duplicates: 13,900\n"
     ]
    }
   ],
   "source": [
    "## Checking for duplicate samples in the train dataset and drop 1 of the duplicates\n",
    "\n",
    "def remove_train_duplicate(data):\n",
    "    print(f'No. of Rows - Before Removing Duplicates:{data.shape[0]:,}')\n",
    "    data.drop_duplicates(keep='first', inplace = True)\n",
    "    print(f'No. of Rows - After Removing Duplicates: {data.shape[0]:,}')\n",
    "    \n",
    "\n",
    "remove_train_duplicate(df2)\n"
   ]
  },
  {
   "cell_type": "markdown",
   "id": "43fcf5f2",
   "metadata": {},
   "source": [
    "**Inspecting the datasets**"
   ]
  },
  {
   "cell_type": "code",
   "execution_count": 13,
   "id": "a6eebc6e",
   "metadata": {},
   "outputs": [
    {
     "name": "stdout",
     "output_type": "stream",
     "text": [
      "<class 'pandas.core.frame.DataFrame'>\n",
      "Int64Index: 13900 entries, 0 to 13999\n",
      "Data columns (total 6 columns):\n",
      " #   Column         Non-Null Count  Dtype  \n",
      "---  ------         --------------  -----  \n",
      " 0   loc            12117 non-null  object \n",
      " 1   title          12185 non-null  object \n",
      " 2   bedroom        12103 non-null  float64\n",
      " 3   bathroom       12097 non-null  float64\n",
      " 4   parking_space  12093 non-null  float64\n",
      " 5   price          13900 non-null  float64\n",
      "dtypes: float64(4), object(2)\n",
      "memory usage: 760.2+ KB\n"
     ]
    }
   ],
   "source": [
    "## Inspecting our train dataset\n",
    "df2.info()"
   ]
  },
  {
   "cell_type": "code",
   "execution_count": 14,
   "id": "2006a169",
   "metadata": {},
   "outputs": [
    {
     "name": "stdout",
     "output_type": "stream",
     "text": [
      "<class 'pandas.core.frame.DataFrame'>\n",
      "RangeIndex: 6000 entries, 0 to 5999\n",
      "Data columns (total 6 columns):\n",
      " #   Column         Non-Null Count  Dtype \n",
      "---  ------         --------------  ----- \n",
      " 0   ID             6000 non-null   int64 \n",
      " 1   loc            6000 non-null   object\n",
      " 2   title          6000 non-null   object\n",
      " 3   bedroom        6000 non-null   int64 \n",
      " 4   bathroom       6000 non-null   int64 \n",
      " 5   parking_space  6000 non-null   int64 \n",
      "dtypes: int64(4), object(2)\n",
      "memory usage: 281.4+ KB\n"
     ]
    }
   ],
   "source": [
    "## Inspecting our train dataset\n",
    "test_df.info()"
   ]
  },
  {
   "cell_type": "markdown",
   "id": "cd768cbf",
   "metadata": {},
   "source": [
    "There are some missing values in the train dataset which we will handle appropriately. For the test dataset, there are no missing values."
   ]
  },
  {
   "cell_type": "markdown",
   "id": "2a961e62",
   "metadata": {},
   "source": [
    "---\n",
    "### Handling missing values in each feature"
   ]
  },
  {
   "cell_type": "code",
   "execution_count": 15,
   "id": "096cef82",
   "metadata": {},
   "outputs": [
    {
     "data": {
      "text/plain": [
       "loc              1783\n",
       "title            1715\n",
       "bedroom          1797\n",
       "bathroom         1803\n",
       "parking_space    1807\n",
       "price               0\n",
       "dtype: int64"
      ]
     },
     "execution_count": 15,
     "metadata": {},
     "output_type": "execute_result"
    }
   ],
   "source": [
    "df2.isna().sum()"
   ]
  },
  {
   "cell_type": "markdown",
   "id": "479f74c1",
   "metadata": {},
   "source": [
    "We have quite a lot of missing values in our dataset which we will handle appropriately so as to build a very good predictive model"
   ]
  },
  {
   "cell_type": "markdown",
   "id": "1a5d2143",
   "metadata": {},
   "source": [
    "**Location (loc)**"
   ]
  },
  {
   "cell_type": "code",
   "execution_count": 16,
   "id": "03bcdd5c",
   "metadata": {},
   "outputs": [
    {
     "data": {
      "text/plain": [
       "36"
      ]
     },
     "execution_count": 16,
     "metadata": {},
     "output_type": "execute_result"
    }
   ],
   "source": [
    "len(df2['loc'].value_counts())"
   ]
  },
  {
   "cell_type": "markdown",
   "id": "f4c6d7e2",
   "metadata": {},
   "source": [
    "So, we have 36 different locations in our dataset which represents each state in Nigeria. Great\n",
    "\n",
    "Now, we'll be dropping rows with missing values in the `loc` column"
   ]
  },
  {
   "cell_type": "code",
   "execution_count": 17,
   "id": "f583f2b5",
   "metadata": {},
   "outputs": [
    {
     "data": {
      "text/html": [
       "<div>\n",
       "<style scoped>\n",
       "    .dataframe tbody tr th:only-of-type {\n",
       "        vertical-align: middle;\n",
       "    }\n",
       "\n",
       "    .dataframe tbody tr th {\n",
       "        vertical-align: top;\n",
       "    }\n",
       "\n",
       "    .dataframe thead th {\n",
       "        text-align: right;\n",
       "    }\n",
       "</style>\n",
       "<table border=\"1\" class=\"dataframe\">\n",
       "  <thead>\n",
       "    <tr style=\"text-align: right;\">\n",
       "      <th></th>\n",
       "      <th>loc</th>\n",
       "      <th>title</th>\n",
       "      <th>bedroom</th>\n",
       "      <th>bathroom</th>\n",
       "      <th>parking_space</th>\n",
       "      <th>price</th>\n",
       "    </tr>\n",
       "  </thead>\n",
       "  <tbody>\n",
       "    <tr>\n",
       "      <th>0</th>\n",
       "      <td>Katsina</td>\n",
       "      <td>Semi-detached duplex</td>\n",
       "      <td>2.0</td>\n",
       "      <td>2.0</td>\n",
       "      <td>1.0</td>\n",
       "      <td>1149999.565</td>\n",
       "    </tr>\n",
       "    <tr>\n",
       "      <th>1</th>\n",
       "      <td>Ondo</td>\n",
       "      <td>Apartment</td>\n",
       "      <td>NaN</td>\n",
       "      <td>2.0</td>\n",
       "      <td>4.0</td>\n",
       "      <td>1672416.689</td>\n",
       "    </tr>\n",
       "    <tr>\n",
       "      <th>2</th>\n",
       "      <td>Ekiti</td>\n",
       "      <td>NaN</td>\n",
       "      <td>7.0</td>\n",
       "      <td>5.0</td>\n",
       "      <td>NaN</td>\n",
       "      <td>3364799.814</td>\n",
       "    </tr>\n",
       "    <tr>\n",
       "      <th>3</th>\n",
       "      <td>Anambra</td>\n",
       "      <td>Detached duplex</td>\n",
       "      <td>5.0</td>\n",
       "      <td>2.0</td>\n",
       "      <td>4.0</td>\n",
       "      <td>2410306.756</td>\n",
       "    </tr>\n",
       "    <tr>\n",
       "      <th>4</th>\n",
       "      <td>Kogi</td>\n",
       "      <td>Terrace duplex</td>\n",
       "      <td>NaN</td>\n",
       "      <td>5.0</td>\n",
       "      <td>6.0</td>\n",
       "      <td>2600700.898</td>\n",
       "    </tr>\n",
       "  </tbody>\n",
       "</table>\n",
       "</div>"
      ],
      "text/plain": [
       "       loc                 title  bedroom  bathroom  parking_space  \\\n",
       "0  Katsina  Semi-detached duplex      2.0       2.0            1.0   \n",
       "1     Ondo             Apartment      NaN       2.0            4.0   \n",
       "2    Ekiti                   NaN      7.0       5.0            NaN   \n",
       "3  Anambra       Detached duplex      5.0       2.0            4.0   \n",
       "4     Kogi        Terrace duplex      NaN       5.0            6.0   \n",
       "\n",
       "         price  \n",
       "0  1149999.565  \n",
       "1  1672416.689  \n",
       "2  3364799.814  \n",
       "3  2410306.756  \n",
       "4  2600700.898  "
      ]
     },
     "execution_count": 17,
     "metadata": {},
     "output_type": "execute_result"
    }
   ],
   "source": [
    "## Dropping rows with null values in 'loc' column\n",
    "\n",
    "df3 = df2.dropna(subset='loc')\n",
    "df3.head()"
   ]
  },
  {
   "cell_type": "markdown",
   "id": "47b0906d",
   "metadata": {},
   "source": [
    "---\n",
    "**Title (title)**\n",
    "\n",
    "We will be replacing each null values in the `title` column with the mode title of its respective location. That is; most common title in each location"
   ]
  },
  {
   "cell_type": "code",
   "execution_count": 18,
   "id": "1393638c",
   "metadata": {},
   "outputs": [],
   "source": [
    "## Group by 'loc' and calculate the mode title for each group\n",
    "mode_title_by_location = df3.groupby('loc')['title'].apply(lambda x: x.mode().iloc[0])\n",
    "\n",
    "# Iterate through the DataFrame and fill missing 'title' values based on location\n",
    "for index, row in df3.iterrows():\n",
    "    if pd.isnull(row['title']):\n",
    "        df3.at[index, 'title'] = mode_title_by_location.get(row['loc'])\n"
   ]
  },
  {
   "cell_type": "code",
   "execution_count": 19,
   "id": "748643ae",
   "metadata": {},
   "outputs": [
    {
     "data": {
      "text/plain": [
       "loc                 0\n",
       "title               0\n",
       "bedroom          1742\n",
       "bathroom         1730\n",
       "parking_space    1737\n",
       "price               0\n",
       "dtype: int64"
      ]
     },
     "execution_count": 19,
     "metadata": {},
     "output_type": "execute_result"
    }
   ],
   "source": [
    "df3.isna().sum()"
   ]
  },
  {
   "cell_type": "markdown",
   "id": "2d733e24",
   "metadata": {},
   "source": [
    "---\n",
    "**Bedroom (bedroom)**"
   ]
  },
  {
   "cell_type": "markdown",
   "id": "a64442f4",
   "metadata": {},
   "source": [
    "For, the null values in the `bedroom` column, we will fill each null value column with the median bedroom count of its particular 'title' within its 'location'."
   ]
  },
  {
   "cell_type": "code",
   "execution_count": 20,
   "id": "aecf064a",
   "metadata": {},
   "outputs": [],
   "source": [
    "## A function to fill missing values in bedroom column....\n",
    "def fill_missing_bedroom(group):\n",
    "    median_bedroom = group['bedroom'].median()\n",
    "    group['bedroom'].fillna(median_bedroom, inplace=True)\n",
    "    return group\n",
    "\n",
    "\n",
    "\n",
    "## Grouped by 'title' and 'loc', then applied the fill_missing_bedroom function\n",
    "df3 = df3.groupby(['title', 'loc']).apply(fill_missing_bedroom).reset_index(drop=True)\n"
   ]
  },
  {
   "cell_type": "code",
   "execution_count": 21,
   "id": "717ba92c",
   "metadata": {},
   "outputs": [
    {
     "data": {
      "text/plain": [
       "loc                 0\n",
       "title               0\n",
       "bedroom             0\n",
       "bathroom         1730\n",
       "parking_space    1737\n",
       "price               0\n",
       "dtype: int64"
      ]
     },
     "execution_count": 21,
     "metadata": {},
     "output_type": "execute_result"
    }
   ],
   "source": [
    "df3.isna().sum()"
   ]
  },
  {
   "cell_type": "markdown",
   "id": "e36d9eb8",
   "metadata": {},
   "source": [
    "--- \n",
    "**Bathroom (bathroom)**"
   ]
  },
  {
   "cell_type": "markdown",
   "id": "99dd68a4",
   "metadata": {},
   "source": [
    "For, the null values in the `bathroom` column, we will fill each null value column with the median bathroom count of its particular 'title' within its 'location', just like we did for bedroom"
   ]
  },
  {
   "cell_type": "code",
   "execution_count": 22,
   "id": "11f685da",
   "metadata": {},
   "outputs": [],
   "source": [
    "## A function to fill missing values in bathroom column....\n",
    "def fill_missing_bathroom(group):\n",
    "    median_bathroom = group['bathroom'].median()\n",
    "    group['bathroom'].fillna(median_bathroom, inplace=True)\n",
    "    return group\n",
    "\n",
    "\n",
    "\n",
    "## Grouped by 'title' and 'loc', then applied the fill_missing_bathroom function\n",
    "df3 = df3.groupby(['title', 'loc']).apply(fill_missing_bathroom).reset_index(drop=True)\n"
   ]
  },
  {
   "cell_type": "code",
   "execution_count": 23,
   "id": "a91b57bb",
   "metadata": {},
   "outputs": [
    {
     "data": {
      "text/plain": [
       "loc                 0\n",
       "title               0\n",
       "bedroom             0\n",
       "bathroom            0\n",
       "parking_space    1737\n",
       "price               0\n",
       "dtype: int64"
      ]
     },
     "execution_count": 23,
     "metadata": {},
     "output_type": "execute_result"
    }
   ],
   "source": [
    "df3.isna().sum()"
   ]
  },
  {
   "cell_type": "markdown",
   "id": "fc426397",
   "metadata": {},
   "source": [
    "---\n",
    "**Parking Space (parking_space)**"
   ]
  },
  {
   "cell_type": "markdown",
   "id": "78048d9f",
   "metadata": {},
   "source": [
    "We will fill the missing values in the `parking_space` column with the median parking_space count of its particular 'title' within its 'location'"
   ]
  },
  {
   "cell_type": "code",
   "execution_count": 24,
   "id": "1c8cc08b",
   "metadata": {},
   "outputs": [],
   "source": [
    "## A function to fill missing values in bathroom column....\n",
    "def fill_missing_parking_space(group):\n",
    "    median_parking_space = group['parking_space'].median()\n",
    "    group['parking_space'].fillna(median_parking_space, inplace=True)\n",
    "    return group\n",
    "\n",
    "\n",
    "\n",
    "## Grouped by 'title' and 'loc', then applied the fill_missing_bathroom function\n",
    "df3 = df3.groupby(['title', 'loc']).apply(fill_missing_parking_space).reset_index(drop=True)\n"
   ]
  },
  {
   "cell_type": "code",
   "execution_count": 25,
   "id": "00773898",
   "metadata": {},
   "outputs": [
    {
     "data": {
      "text/plain": [
       "loc              0\n",
       "title            0\n",
       "bedroom          0\n",
       "bathroom         0\n",
       "parking_space    0\n",
       "price            0\n",
       "dtype: int64"
      ]
     },
     "execution_count": 25,
     "metadata": {},
     "output_type": "execute_result"
    }
   ],
   "source": [
    "df3.isna().sum()"
   ]
  },
  {
   "cell_type": "markdown",
   "id": "a1acd698",
   "metadata": {},
   "source": [
    "Now, we are done handling missing values in our dataset"
   ]
  },
  {
   "cell_type": "markdown",
   "id": "285d182d",
   "metadata": {},
   "source": [
    "### Checking For Errors Inputs (Anomalies) "
   ]
  },
  {
   "cell_type": "markdown",
   "id": "f6436168",
   "metadata": {},
   "source": [
    "We will subset for rows where number of 'bathrooms' in a house is greater than the 'number of bedrooms + 2' and remove them from our dataset, because that cannot possible in real life so they are probably anomalies."
   ]
  },
  {
   "cell_type": "code",
   "execution_count": 26,
   "id": "8605cacc",
   "metadata": {},
   "outputs": [
    {
     "data": {
      "text/html": [
       "<div>\n",
       "<style scoped>\n",
       "    .dataframe tbody tr th:only-of-type {\n",
       "        vertical-align: middle;\n",
       "    }\n",
       "\n",
       "    .dataframe tbody tr th {\n",
       "        vertical-align: top;\n",
       "    }\n",
       "\n",
       "    .dataframe thead th {\n",
       "        text-align: right;\n",
       "    }\n",
       "</style>\n",
       "<table border=\"1\" class=\"dataframe\">\n",
       "  <thead>\n",
       "    <tr style=\"text-align: right;\">\n",
       "      <th></th>\n",
       "      <th>loc</th>\n",
       "      <th>title</th>\n",
       "      <th>bedroom</th>\n",
       "      <th>bathroom</th>\n",
       "      <th>parking_space</th>\n",
       "      <th>price</th>\n",
       "    </tr>\n",
       "  </thead>\n",
       "  <tbody>\n",
       "    <tr>\n",
       "      <th>19</th>\n",
       "      <td>Kaduna</td>\n",
       "      <td>Flat</td>\n",
       "      <td>4.0</td>\n",
       "      <td>7.0</td>\n",
       "      <td>2.0</td>\n",
       "      <td>1790256.208</td>\n",
       "    </tr>\n",
       "    <tr>\n",
       "      <th>31</th>\n",
       "      <td>Osun</td>\n",
       "      <td>Semi-detached duplex</td>\n",
       "      <td>3.0</td>\n",
       "      <td>7.0</td>\n",
       "      <td>3.0</td>\n",
       "      <td>1751635.699</td>\n",
       "    </tr>\n",
       "    <tr>\n",
       "      <th>39</th>\n",
       "      <td>Delta</td>\n",
       "      <td>Mansion</td>\n",
       "      <td>3.0</td>\n",
       "      <td>6.0</td>\n",
       "      <td>1.0</td>\n",
       "      <td>4223442.423</td>\n",
       "    </tr>\n",
       "    <tr>\n",
       "      <th>45</th>\n",
       "      <td>Bauchi</td>\n",
       "      <td>Mansion</td>\n",
       "      <td>4.0</td>\n",
       "      <td>7.0</td>\n",
       "      <td>2.0</td>\n",
       "      <td>3822595.558</td>\n",
       "    </tr>\n",
       "    <tr>\n",
       "      <th>57</th>\n",
       "      <td>Kano</td>\n",
       "      <td>Mansion</td>\n",
       "      <td>1.0</td>\n",
       "      <td>6.0</td>\n",
       "      <td>3.0</td>\n",
       "      <td>2687046.276</td>\n",
       "    </tr>\n",
       "    <tr>\n",
       "      <th>...</th>\n",
       "      <td>...</td>\n",
       "      <td>...</td>\n",
       "      <td>...</td>\n",
       "      <td>...</td>\n",
       "      <td>...</td>\n",
       "      <td>...</td>\n",
       "    </tr>\n",
       "    <tr>\n",
       "      <th>12106</th>\n",
       "      <td>Kebbi</td>\n",
       "      <td>Terrace duplex</td>\n",
       "      <td>4.0</td>\n",
       "      <td>7.0</td>\n",
       "      <td>2.0</td>\n",
       "      <td>1581061.171</td>\n",
       "    </tr>\n",
       "    <tr>\n",
       "      <th>12108</th>\n",
       "      <td>Zamfara</td>\n",
       "      <td>Detached duplex</td>\n",
       "      <td>4.0</td>\n",
       "      <td>7.0</td>\n",
       "      <td>3.0</td>\n",
       "      <td>1601556.469</td>\n",
       "    </tr>\n",
       "    <tr>\n",
       "      <th>12112</th>\n",
       "      <td>Edo</td>\n",
       "      <td>Bungalow</td>\n",
       "      <td>4.0</td>\n",
       "      <td>7.0</td>\n",
       "      <td>4.0</td>\n",
       "      <td>2367927.861</td>\n",
       "    </tr>\n",
       "    <tr>\n",
       "      <th>12113</th>\n",
       "      <td>Kaduna</td>\n",
       "      <td>Apartment</td>\n",
       "      <td>4.0</td>\n",
       "      <td>7.0</td>\n",
       "      <td>5.0</td>\n",
       "      <td>2228516.471</td>\n",
       "    </tr>\n",
       "    <tr>\n",
       "      <th>12115</th>\n",
       "      <td>Delta</td>\n",
       "      <td>Flat</td>\n",
       "      <td>3.0</td>\n",
       "      <td>6.0</td>\n",
       "      <td>1.0</td>\n",
       "      <td>3348918.718</td>\n",
       "    </tr>\n",
       "  </tbody>\n",
       "</table>\n",
       "<p>1074 rows × 6 columns</p>\n",
       "</div>"
      ],
      "text/plain": [
       "           loc                 title  bedroom  bathroom  parking_space  \\\n",
       "19      Kaduna                  Flat      4.0       7.0            2.0   \n",
       "31        Osun  Semi-detached duplex      3.0       7.0            3.0   \n",
       "39       Delta               Mansion      3.0       6.0            1.0   \n",
       "45      Bauchi               Mansion      4.0       7.0            2.0   \n",
       "57        Kano               Mansion      1.0       6.0            3.0   \n",
       "...        ...                   ...      ...       ...            ...   \n",
       "12106    Kebbi        Terrace duplex      4.0       7.0            2.0   \n",
       "12108  Zamfara       Detached duplex      4.0       7.0            3.0   \n",
       "12112      Edo              Bungalow      4.0       7.0            4.0   \n",
       "12113   Kaduna             Apartment      4.0       7.0            5.0   \n",
       "12115    Delta                  Flat      3.0       6.0            1.0   \n",
       "\n",
       "             price  \n",
       "19     1790256.208  \n",
       "31     1751635.699  \n",
       "39     4223442.423  \n",
       "45     3822595.558  \n",
       "57     2687046.276  \n",
       "...            ...  \n",
       "12106  1581061.171  \n",
       "12108  1601556.469  \n",
       "12112  2367927.861  \n",
       "12113  2228516.471  \n",
       "12115  3348918.718  \n",
       "\n",
       "[1074 rows x 6 columns]"
      ]
     },
     "execution_count": 26,
     "metadata": {},
     "output_type": "execute_result"
    }
   ],
   "source": [
    "## Subset for rows where number of 'bathrooms' in a house is greater than the 'number of bedrooms + 2' \n",
    "\n",
    "df3[(df3['bathroom']> df3['bedroom']+2)]"
   ]
  },
  {
   "cell_type": "code",
   "execution_count": 27,
   "id": "c4241ab8",
   "metadata": {},
   "outputs": [],
   "source": [
    "## Removing those anomalies in our train dataset and passing it into a new dataframe\n",
    "train_df = df3[~(df3['bathroom']> df3['bedroom']+2)]\n"
   ]
  },
  {
   "cell_type": "markdown",
   "id": "4b62ee36",
   "metadata": {},
   "source": [
    "---\n",
    "## Data Visualization\n",
    "**Now that we have cleaned our data, let's perform some visualization to gain more insights**"
   ]
  },
  {
   "cell_type": "code",
   "execution_count": 28,
   "id": "8480726a",
   "metadata": {},
   "outputs": [
    {
     "data": {
      "text/html": [
       "<div>\n",
       "<style scoped>\n",
       "    .dataframe tbody tr th:only-of-type {\n",
       "        vertical-align: middle;\n",
       "    }\n",
       "\n",
       "    .dataframe tbody tr th {\n",
       "        vertical-align: top;\n",
       "    }\n",
       "\n",
       "    .dataframe thead th {\n",
       "        text-align: right;\n",
       "    }\n",
       "</style>\n",
       "<table border=\"1\" class=\"dataframe\">\n",
       "  <thead>\n",
       "    <tr style=\"text-align: right;\">\n",
       "      <th></th>\n",
       "      <th>loc</th>\n",
       "      <th>title</th>\n",
       "      <th>bedroom</th>\n",
       "      <th>bathroom</th>\n",
       "      <th>parking_space</th>\n",
       "      <th>price</th>\n",
       "    </tr>\n",
       "  </thead>\n",
       "  <tbody>\n",
       "    <tr>\n",
       "      <th>0</th>\n",
       "      <td>Katsina</td>\n",
       "      <td>Semi-detached duplex</td>\n",
       "      <td>2.0</td>\n",
       "      <td>2.0</td>\n",
       "      <td>1.0</td>\n",
       "      <td>1149999.565</td>\n",
       "    </tr>\n",
       "    <tr>\n",
       "      <th>1</th>\n",
       "      <td>Ondo</td>\n",
       "      <td>Apartment</td>\n",
       "      <td>3.5</td>\n",
       "      <td>2.0</td>\n",
       "      <td>4.0</td>\n",
       "      <td>1672416.689</td>\n",
       "    </tr>\n",
       "    <tr>\n",
       "      <th>2</th>\n",
       "      <td>Ekiti</td>\n",
       "      <td>Detached duplex</td>\n",
       "      <td>7.0</td>\n",
       "      <td>5.0</td>\n",
       "      <td>3.0</td>\n",
       "      <td>3364799.814</td>\n",
       "    </tr>\n",
       "    <tr>\n",
       "      <th>3</th>\n",
       "      <td>Anambra</td>\n",
       "      <td>Detached duplex</td>\n",
       "      <td>5.0</td>\n",
       "      <td>2.0</td>\n",
       "      <td>4.0</td>\n",
       "      <td>2410306.756</td>\n",
       "    </tr>\n",
       "    <tr>\n",
       "      <th>4</th>\n",
       "      <td>Kogi</td>\n",
       "      <td>Terrace duplex</td>\n",
       "      <td>5.0</td>\n",
       "      <td>5.0</td>\n",
       "      <td>6.0</td>\n",
       "      <td>2600700.898</td>\n",
       "    </tr>\n",
       "  </tbody>\n",
       "</table>\n",
       "</div>"
      ],
      "text/plain": [
       "       loc                 title  bedroom  bathroom  parking_space  \\\n",
       "0  Katsina  Semi-detached duplex      2.0       2.0            1.0   \n",
       "1     Ondo             Apartment      3.5       2.0            4.0   \n",
       "2    Ekiti       Detached duplex      7.0       5.0            3.0   \n",
       "3  Anambra       Detached duplex      5.0       2.0            4.0   \n",
       "4     Kogi        Terrace duplex      5.0       5.0            6.0   \n",
       "\n",
       "         price  \n",
       "0  1149999.565  \n",
       "1  1672416.689  \n",
       "2  3364799.814  \n",
       "3  2410306.756  \n",
       "4  2600700.898  "
      ]
     },
     "execution_count": 28,
     "metadata": {},
     "output_type": "execute_result"
    }
   ],
   "source": [
    "train_df.head()"
   ]
  },
  {
   "cell_type": "markdown",
   "id": "f548ccca",
   "metadata": {},
   "source": [
    "**Distribution of Prices**"
   ]
  },
  {
   "cell_type": "code",
   "execution_count": 118,
   "id": "c6405a30",
   "metadata": {},
   "outputs": [
    {
     "data": {
      "image/png": "[encoded data removed]",
      "text/plain": [
       "<Figure size 1000x600 with 1 Axes>"
      ]
     },
     "metadata": {},
     "output_type": "display_data"
    }
   ],
   "source": [
    "# Create a histogram to visualize the distribution of house prices\n",
    "plt.figure(figsize=(10, 6))\n",
    "plt.hist(train_df['price'], bins=30, color='blue', alpha=0.7)\n",
    "plt.xlabel('House Price', fontsize=20)\n",
    "plt.ylabel('Frequency', fontsize=20)\n",
    "plt.title('Distribution of House Prices', fontsize=30)\n",
    "plt.show()\n",
    "\n"
   ]
  },
  {
   "cell_type": "markdown",
   "id": "4cdafe01",
   "metadata": {},
   "source": [
    "From the distribution of house prices, it is evident that a significant proportion of the houses fall within the price range of 1 million (1M) to 2 million (2M). This range appears to be the most common price bracket, with a notable concentration of houses. This insight suggests that a substantial portion of the housing market caters to potential buyers looking for properties in the affordable to moderately priced segment. Understanding this concentration of prices can aid in tailoring marketing strategies and pricing decisions to effectively target and engage this particular market segment"
   ]
  },
  {
   "cell_type": "markdown",
   "id": "58c71264",
   "metadata": {},
   "source": [
    "---\n",
    "**Plotting for the distribution of houses by location**"
   ]
  },
  {
   "cell_type": "code",
   "execution_count": 116,
   "id": "c7b10935",
   "metadata": {},
   "outputs": [
    {
     "data": {
      "image/png": "[encoded data removed]",
      "text/plain": [
       "<Figure size 1200x600 with 1 Axes>"
      ]
     },
     "metadata": {},
     "output_type": "display_data"
    }
   ],
   "source": [
    "# Group the data by location and count the number of houses in each location\n",
    "location_counts = train_df['loc'].value_counts()\n",
    "\n",
    "# Plotting\n",
    "plt.figure(figsize=(12, 6))\n",
    "location_counts.plot(kind='bar', color='teal', width=0.8)\n",
    "plt.xlabel('Location', fontsize=20)\n",
    "plt.ylabel('Number of Houses', fontsize=20)\n",
    "plt.title('Distribution of Houses by Location', fontsize=30)\n",
    "plt.xticks(rotation=45, ha='right')\n",
    "plt.tight_layout()\n",
    "plt.show()\n",
    "\n"
   ]
  },
  {
   "cell_type": "markdown",
   "id": "8cbd9b0c",
   "metadata": {},
   "source": [
    "The distribution of houses across different locations appears to be relatively uniform, with a comparable number of houses in each location. This suggests that the real estate market in this area is well-distributed and does not exhibit significant concentration in specific locations.\n",
    "\n",
    "---"
   ]
  },
  {
   "cell_type": "markdown",
   "id": "9d5eadbb",
   "metadata": {},
   "source": [
    "**Plotting for the Average Price of House by Location**"
   ]
  },
  {
   "cell_type": "code",
   "execution_count": 114,
   "id": "28d00408",
   "metadata": {},
   "outputs": [
    {
     "data": {
      "image/png": "[encoded data removed]",
      "text/plain": [
       "<Figure size 1200x600 with 1 Axes>"
      ]
     },
     "metadata": {},
     "output_type": "display_data"
    }
   ],
   "source": [
    "\n",
    "# Group by 'loc' and calculate the average house price for each location\n",
    "avg_price_by_loc = train_df.groupby('loc')['price'].mean().reset_index()\n",
    "avg_price_by_loc.columns = ['Location', 'Average_house_price']\n",
    "\n",
    "# Create the bar plot\n",
    "fig, ax = plt.subplots(figsize=(12, 6))\n",
    "ax.bar(avg_price_by_loc['Location'], avg_price_by_loc['Average_house_price'], color='teal')\n",
    "ax.set_xticklabels(avg_price_by_loc['Location'], rotation=45, ha='right')\n",
    "ax.set_xlabel('Location', fontsize=20)\n",
    "ax.set_ylabel('Average Price', fontsize=20)\n",
    "ax.set_title('Average House Price by Location', fontsize=30)\n",
    "\n",
    "plt.tight_layout()\n",
    "plt.show()\n"
   ]
  },
  {
   "cell_type": "markdown",
   "id": "a5ece7a0",
   "metadata": {},
   "source": [
    "From the visualization of average house prices by location, several interesting insights can be drawn:\n",
    "\n",
    "Lagos Tops the List: Unsurprisingly, Lagos stands out with the highest average house price, significantly surpassing other states. This could be attributed to its status as a major economic hub and commercial center in Nigeria.\n",
    "\n",
    "Regional Disparities: There is a noticeable variation in average house prices across different states. Southern states like Lagos, Bayelsa, and Rivers tend to have higher average prices compared to some northern states like Kebbi, Yobe, and Zamfara.\n",
    "\n",
    "Urban Influence: Urbanized and developed states like Lagos, Akwa Ibom, and Rivers generally command higher average house prices. These areas might be more attractive to residents due to better infrastructure, amenities, and economic opportunities.\n",
    "\n",
    "Economic Factors: States with higher average house prices could indicate stronger economic activity and purchasing power. The relative prosperity in these areas might contribute to higher property values.\n",
    "\n",
    "Growth Potential: States with lower average house prices, while more affordable, might represent growth opportunities for real estate investments. These areas could experience future development and potential appreciation in property values.\n",
    "\n",
    "Regional Trends: There seems to be a trend of higher average house prices in southern states compared to northern states. This could be due to factors such as population density, economic activities, and demand for real estate.\n",
    "\n",
    "Diverse Factors: Average house prices are influenced by a combination of factors, including economic conditions, population density, infrastructure, location desirability, and more.\n",
    "\n",
    "Real Estate Market Dynamics: Understanding the disparities in average house prices can guide real estate investors, developers, and policymakers in making informed decisions about property investments, development projects, and market strategies.\n",
    "\n",
    "It's important to note that these insights are based on the analysis of average house prices and do not capture the entire complexity of the real estate market in Nigeria. Further analysis and context-specific knowledge would provide a deeper understanding of the underlying factors driving these patterns.\n",
    "\n",
    "---"
   ]
  },
  {
   "cell_type": "markdown",
   "id": "972d5eb0",
   "metadata": {},
   "source": [
    "**Plotting for the Average Price of House by Title(house type)**"
   ]
  },
  {
   "cell_type": "code",
   "execution_count": 112,
   "id": "4bd679b1",
   "metadata": {},
   "outputs": [
    {
     "data": {
      "image/png": "[encoded data removed]",
      "text/plain": [
       "<Figure size 1200x600 with 1 Axes>"
      ]
     },
     "metadata": {},
     "output_type": "display_data"
    }
   ],
   "source": [
    "# Group by 'title' and calculate the average house price for each title\n",
    "avg_price_by_title = train_df.groupby('title')['price'].mean().reset_index()\n",
    "avg_price_by_title.columns = ['House Type', 'Average_house_price']\n",
    "\n",
    "\n",
    "# Create the bar plot\n",
    "fig, ax = plt.subplots(figsize=(12, 6))\n",
    "ax.bar(avg_price_by_title['House Type'], avg_price_by_title['Average_house_price'], color='purple')\n",
    "ax.set_xticklabels(avg_price_by_title['House Type'], rotation=45, ha='right')\n",
    "ax.set_xlabel('House Type', fontsize=20)\n",
    "ax.set_ylabel('Average Price', fontsize=20)\n",
    "ax.set_title('Average House Price by Title(House Type)', fontsize=30)\n",
    "plt.tight_layout()\n",
    "plt.show()\n"
   ]
  },
  {
   "cell_type": "markdown",
   "id": "5b7ea38c",
   "metadata": {},
   "source": [
    "The dataset encompasses a wide range of house types with varying average prices. This diversity reflects the different preferences and affordability levels of potential buyers or renters.\n",
    "\n",
    "Mansion: has the Highest Average Price: Among the different house types, \"Mansion\" stands out with the highest average house price of approximately ₦3,630,393. This suggests that mansions are generally associated with luxury and exclusivity, which can contribute to their premium pricing.\n",
    "\n",
    "\n",
    "Penthouse: \"Penthouse\" also commands a significant average price (around ₦2,635,754), indicating that penthouses are sought-after for their upscale and luxurious living experience, often offering spacious layouts and stunning views.\n",
    "\n",
    "Detached and Semi-Detached Duplexes: Both \"Detached duplex\" and \"Semi-detached duplex\" categories have notable average prices (around ₦2,223,799 and ₦1,981,348, respectively). This could imply that duplex-style homes, whether detached or semi-detached, come with higher price tags, possibly due to larger sizes and additional amenities.\n",
    "\n",
    "Townhouses and Terrace Duplexes: \"Townhouse\" and \"Terrace duplex\" have average prices around ₦2,065,928 and ₦1,972,598, respectively. These options may represent a balance between space, privacy, and affordability for potential homeowners.\n",
    "\n",
    "Preference for Standalone Bungalows: \"Bungalow\" holds an average price of approximately ₦1,812,480. This suggests that there is demand for standalone single-story homes that offer easy access and spacious living without the need for stairs.\n",
    "\n",
    "Flats and Apartments: \"Flat\" and \"Apartment\" categories have average prices of around ₦1,764,481 and ₦1,669,068, respectively. These options could be popular among individuals or small families seeking more compact living spaces.\n",
    "\n",
    "Cottage for Cozy Living: \"Cottage\" stands out with a relatively lower average price (around ₦1,319,260), possibly appealing to those who prefer a cozy and quaint living environment.\n",
    "\n",
    "These insights shed light on the diverse preferences of potential homebuyers or renters, with luxury options such as mansions and penthouses commanding higher prices, while a variety of other options cater to different needs and lifestyles. The variation in average prices by house type provides valuable information for Wazobia Real Estate Limited to make informed pricing decisions and effectively cater to a range of clientele.\n",
    "\n",
    "---"
   ]
  },
  {
   "cell_type": "markdown",
   "id": "8dba7174",
   "metadata": {},
   "source": [
    "## Feature engineering"
   ]
  },
  {
   "cell_type": "markdown",
   "id": "ffe4fd2c",
   "metadata": {},
   "source": [
    "We will be engineering some new features into our datasets from the raw data to make it more suitable and informative for our prediction model. "
   ]
  },
  {
   "cell_type": "code",
   "execution_count": 33,
   "id": "53885541",
   "metadata": {},
   "outputs": [
    {
     "data": {
      "text/html": [
       "<div>\n",
       "<style scoped>\n",
       "    .dataframe tbody tr th:only-of-type {\n",
       "        vertical-align: middle;\n",
       "    }\n",
       "\n",
       "    .dataframe tbody tr th {\n",
       "        vertical-align: top;\n",
       "    }\n",
       "\n",
       "    .dataframe thead th {\n",
       "        text-align: right;\n",
       "    }\n",
       "</style>\n",
       "<table border=\"1\" class=\"dataframe\">\n",
       "  <thead>\n",
       "    <tr style=\"text-align: right;\">\n",
       "      <th></th>\n",
       "      <th>loc</th>\n",
       "      <th>title</th>\n",
       "      <th>bedroom</th>\n",
       "      <th>bathroom</th>\n",
       "      <th>parking_space</th>\n",
       "      <th>price</th>\n",
       "      <th>total_area</th>\n",
       "      <th>avg_bathrooms_per_bedroom</th>\n",
       "    </tr>\n",
       "  </thead>\n",
       "  <tbody>\n",
       "    <tr>\n",
       "      <th>0</th>\n",
       "      <td>Katsina</td>\n",
       "      <td>Semi-detached duplex</td>\n",
       "      <td>2.0</td>\n",
       "      <td>2.0</td>\n",
       "      <td>1.0</td>\n",
       "      <td>1149999.565</td>\n",
       "      <td>5.0</td>\n",
       "      <td>1.000000</td>\n",
       "    </tr>\n",
       "    <tr>\n",
       "      <th>1</th>\n",
       "      <td>Ondo</td>\n",
       "      <td>Apartment</td>\n",
       "      <td>3.5</td>\n",
       "      <td>2.0</td>\n",
       "      <td>4.0</td>\n",
       "      <td>1672416.689</td>\n",
       "      <td>9.5</td>\n",
       "      <td>0.571429</td>\n",
       "    </tr>\n",
       "    <tr>\n",
       "      <th>2</th>\n",
       "      <td>Ekiti</td>\n",
       "      <td>Detached duplex</td>\n",
       "      <td>7.0</td>\n",
       "      <td>5.0</td>\n",
       "      <td>3.0</td>\n",
       "      <td>3364799.814</td>\n",
       "      <td>15.0</td>\n",
       "      <td>0.714286</td>\n",
       "    </tr>\n",
       "    <tr>\n",
       "      <th>3</th>\n",
       "      <td>Anambra</td>\n",
       "      <td>Detached duplex</td>\n",
       "      <td>5.0</td>\n",
       "      <td>2.0</td>\n",
       "      <td>4.0</td>\n",
       "      <td>2410306.756</td>\n",
       "      <td>11.0</td>\n",
       "      <td>0.400000</td>\n",
       "    </tr>\n",
       "    <tr>\n",
       "      <th>4</th>\n",
       "      <td>Kogi</td>\n",
       "      <td>Terrace duplex</td>\n",
       "      <td>5.0</td>\n",
       "      <td>5.0</td>\n",
       "      <td>6.0</td>\n",
       "      <td>2600700.898</td>\n",
       "      <td>16.0</td>\n",
       "      <td>1.000000</td>\n",
       "    </tr>\n",
       "  </tbody>\n",
       "</table>\n",
       "</div>"
      ],
      "text/plain": [
       "       loc                 title  bedroom  bathroom  parking_space  \\\n",
       "0  Katsina  Semi-detached duplex      2.0       2.0            1.0   \n",
       "1     Ondo             Apartment      3.5       2.0            4.0   \n",
       "2    Ekiti       Detached duplex      7.0       5.0            3.0   \n",
       "3  Anambra       Detached duplex      5.0       2.0            4.0   \n",
       "4     Kogi        Terrace duplex      5.0       5.0            6.0   \n",
       "\n",
       "         price  total_area  avg_bathrooms_per_bedroom  \n",
       "0  1149999.565         5.0                   1.000000  \n",
       "1  1672416.689         9.5                   0.571429  \n",
       "2  3364799.814        15.0                   0.714286  \n",
       "3  2410306.756        11.0                   0.400000  \n",
       "4  2600700.898        16.0                   1.000000  "
      ]
     },
     "execution_count": 33,
     "metadata": {},
     "output_type": "execute_result"
    }
   ],
   "source": [
    "## creating a new feature 'total_area' by adding up number of 'bedrooms, bathrooms and parking_space'\n",
    "train_df['total_area'] = train_df['bedroom'] + train_df['bathroom'] + train_df['parking_space']\n",
    "test_df['total_area'] = test_df['bedroom'] + test_df['bathroom'] + test_df['parking_space']\n",
    "\n",
    "## creating a new feature 'avg_bathrooms_per_bedroom' by dividing total number of 'bathrooms' by total number of'bedrooms'\n",
    "train_df['avg_bathrooms_per_bedroom'] = train_df['bathroom'] / train_df['bedroom']\n",
    "test_df['avg_bathrooms_per_bedroom'] = test_df['bathroom'] / test_df['bedroom']\n",
    "\n",
    "\n",
    "train_df.head()"
   ]
  },
  {
   "cell_type": "code",
   "execution_count": 34,
   "id": "b8e7258c",
   "metadata": {},
   "outputs": [
    {
     "data": {
      "image/png": "[encoded data removed]",
      "text/plain": [
       "<Figure size 1400x700 with 2 Axes>"
      ]
     },
     "metadata": {},
     "output_type": "display_data"
    }
   ],
   "source": [
    "plt.figure(figsize=(14,7))\n",
    "sns.heatmap(train_df.corr(), annot=True, cmap='viridis')   #Correlation of the data (numeric data)\n",
    "plt.title('Correlation Matrix', fontsize=20)\n",
    "plt.tight_layout()"
   ]
  },
  {
   "cell_type": "markdown",
   "id": "b4f3f166",
   "metadata": {},
   "source": [
    "This correlation matrix shows the pairwise correlations between different features in the dataset. Correlation measures the strength and direction of the linear relationship between two variables. Here are some insights from the correlation matrix:\n",
    "\n",
    "- Price and Bedroom: There is a moderate positive correlation (0.50) between the price of the house and the number of bedrooms. This suggests that houses with more bedrooms tend to have higher prices.\n",
    "\n",
    "- Price and Total Area: There is a moderate positive correlation (0.46) between the price of the house and the total area. This indicates that larger houses tend to have higher prices.\n",
    "\n",
    "- Price and Bathroom: There is a moderate positive correlation (0.28) between the price of the house and the number of bathrooms. This indicates that houses with more bathrooms tend to have higher prices.\n",
    "\n",
    "- Bedroom and Bathroom: There is a moderate positive correlation (0.39) between the number of bedrooms and the number of bathrooms. This suggests that houses with more bedrooms tend to have more bathrooms, which is quite intuitive.\n",
    "\n",
    "- Bedroom and Avg Bathrooms per Bedroom: There is a strong negative correlation (-0.52) between the number of bedrooms and the average number of bathrooms per bedroom. This means that houses with more bedrooms tend to have fewer bathrooms per bedroom, and vice versa.\n",
    "\n",
    "- Bedroom and Total Area: There is a strong positive correlation (0.81) between the number of bedrooms and the total area of the house. This suggests that larger houses tend to have more bedrooms.\n",
    "\n",
    "- Bathroom and Total Area: There is a strong positive correlation (0.73) between the number of bathrooms and the total area of the house. This indicates that larger houses tend to have more bathrooms.\n",
    "\n",
    "- Parking Space and Total Area: There is a moderate positive correlation (0.53) between the number of parking spaces and the total area of the house. This suggests that larger houses tend to have more parking spaces.\n",
    "\n",
    "- Price and Avg Bathrooms per Bedroom: There is a weak negative correlation (-0.19) between the price of the house and the average number of bathrooms per bedroom. This suggests that houses with more bathrooms per bedroom may have slightly lower prices.\n",
    "\n",
    "Overall, the correlation matrix provides valuable insights into the relationships between different features in the dataset."
   ]
  },
  {
   "cell_type": "markdown",
   "id": "b071b8df",
   "metadata": {},
   "source": [
    "According to the correlation matrix on the numeric columns, `bedroom` is most correlated to out target 'price', followed by `total_area`"
   ]
  },
  {
   "cell_type": "markdown",
   "id": "3f5c0d18",
   "metadata": {},
   "source": [
    "## Model Building"
   ]
  },
  {
   "cell_type": "code",
   "execution_count": 35,
   "id": "9b590025",
   "metadata": {},
   "outputs": [],
   "source": [
    "df_train = train_df.copy()\n",
    "df_test = test_df.drop('ID', axis=1)\n"
   ]
  },
  {
   "cell_type": "markdown",
   "id": "8352a06f",
   "metadata": {},
   "source": [
    "\n",
    "\n",
    "**Applying log transformation to the 'price' column**\n",
    "\n",
    "By taking the logarithm of the 'price' column, we can compress the scale of the data and reduce the impact of extreme values, making the relationship between the features and the target variable more linear. "
   ]
  },
  {
   "cell_type": "code",
   "execution_count": 36,
   "id": "2473b897",
   "metadata": {},
   "outputs": [
    {
     "data": {
      "text/html": [
       "<div>\n",
       "<style scoped>\n",
       "    .dataframe tbody tr th:only-of-type {\n",
       "        vertical-align: middle;\n",
       "    }\n",
       "\n",
       "    .dataframe tbody tr th {\n",
       "        vertical-align: top;\n",
       "    }\n",
       "\n",
       "    .dataframe thead th {\n",
       "        text-align: right;\n",
       "    }\n",
       "</style>\n",
       "<table border=\"1\" class=\"dataframe\">\n",
       "  <thead>\n",
       "    <tr style=\"text-align: right;\">\n",
       "      <th></th>\n",
       "      <th>loc</th>\n",
       "      <th>title</th>\n",
       "      <th>bedroom</th>\n",
       "      <th>bathroom</th>\n",
       "      <th>parking_space</th>\n",
       "      <th>total_area</th>\n",
       "      <th>avg_bathrooms_per_bedroom</th>\n",
       "      <th>log_price</th>\n",
       "    </tr>\n",
       "  </thead>\n",
       "  <tbody>\n",
       "    <tr>\n",
       "      <th>0</th>\n",
       "      <td>Katsina</td>\n",
       "      <td>Semi-detached duplex</td>\n",
       "      <td>2.0</td>\n",
       "      <td>2.0</td>\n",
       "      <td>1.0</td>\n",
       "      <td>5.0</td>\n",
       "      <td>1.000000</td>\n",
       "      <td>13.955273</td>\n",
       "    </tr>\n",
       "    <tr>\n",
       "      <th>1</th>\n",
       "      <td>Ondo</td>\n",
       "      <td>Apartment</td>\n",
       "      <td>3.5</td>\n",
       "      <td>2.0</td>\n",
       "      <td>4.0</td>\n",
       "      <td>9.5</td>\n",
       "      <td>0.571429</td>\n",
       "      <td>14.329781</td>\n",
       "    </tr>\n",
       "    <tr>\n",
       "      <th>2</th>\n",
       "      <td>Ekiti</td>\n",
       "      <td>Detached duplex</td>\n",
       "      <td>7.0</td>\n",
       "      <td>5.0</td>\n",
       "      <td>3.0</td>\n",
       "      <td>15.0</td>\n",
       "      <td>0.714286</td>\n",
       "      <td>15.028879</td>\n",
       "    </tr>\n",
       "    <tr>\n",
       "      <th>3</th>\n",
       "      <td>Anambra</td>\n",
       "      <td>Detached duplex</td>\n",
       "      <td>5.0</td>\n",
       "      <td>2.0</td>\n",
       "      <td>4.0</td>\n",
       "      <td>11.0</td>\n",
       "      <td>0.400000</td>\n",
       "      <td>14.695265</td>\n",
       "    </tr>\n",
       "    <tr>\n",
       "      <th>4</th>\n",
       "      <td>Kogi</td>\n",
       "      <td>Terrace duplex</td>\n",
       "      <td>5.0</td>\n",
       "      <td>5.0</td>\n",
       "      <td>6.0</td>\n",
       "      <td>16.0</td>\n",
       "      <td>1.000000</td>\n",
       "      <td>14.771292</td>\n",
       "    </tr>\n",
       "  </tbody>\n",
       "</table>\n",
       "</div>"
      ],
      "text/plain": [
       "       loc                 title  bedroom  bathroom  parking_space  \\\n",
       "0  Katsina  Semi-detached duplex      2.0       2.0            1.0   \n",
       "1     Ondo             Apartment      3.5       2.0            4.0   \n",
       "2    Ekiti       Detached duplex      7.0       5.0            3.0   \n",
       "3  Anambra       Detached duplex      5.0       2.0            4.0   \n",
       "4     Kogi        Terrace duplex      5.0       5.0            6.0   \n",
       "\n",
       "   total_area  avg_bathrooms_per_bedroom  log_price  \n",
       "0         5.0                   1.000000  13.955273  \n",
       "1         9.5                   0.571429  14.329781  \n",
       "2        15.0                   0.714286  15.028879  \n",
       "3        11.0                   0.400000  14.695265  \n",
       "4        16.0                   1.000000  14.771292  "
      ]
     },
     "execution_count": 36,
     "metadata": {},
     "output_type": "execute_result"
    }
   ],
   "source": [
    "# Apply log transformation to the 'price' column\n",
    "df_train['log_price'] = np.log1p(df_train['price'])\n",
    "df_train.drop(columns=['price'], inplace=True)\n",
    "\n",
    "df_train.head()"
   ]
  },
  {
   "cell_type": "code",
   "execution_count": 37,
   "id": "a34c512b",
   "metadata": {},
   "outputs": [
    {
     "data": {
      "text/plain": [
       "Index(['loc', 'title', 'bedroom', 'bathroom', 'parking_space', 'total_area',\n",
       "       'avg_bathrooms_per_bedroom', 'log_price'],\n",
       "      dtype='object')"
      ]
     },
     "execution_count": 37,
     "metadata": {},
     "output_type": "execute_result"
    }
   ],
   "source": [
    "df_train.columns"
   ]
  },
  {
   "cell_type": "code",
   "execution_count": 38,
   "id": "14dccedc",
   "metadata": {},
   "outputs": [],
   "source": [
    "## Selecting input columns and target column \n",
    "\n",
    "input_cols = ['loc', 'title', 'bedroom', 'bathroom', 'parking_space',\n",
    "               'total_area', 'avg_bathrooms_per_bedroom']\n",
    "target_col = 'log_price'\n",
    "\n",
    "\n",
    "train_input = df_train[input_cols]\n",
    "test_input = df_test[input_cols]\n",
    "train_target = df_train[target_col]"
   ]
  },
  {
   "cell_type": "code",
   "execution_count": 39,
   "id": "71342f3f",
   "metadata": {},
   "outputs": [],
   "source": [
    "num_col = ['bedroom', 'bathroom', 'parking_space',\n",
    "            'total_area', 'avg_bathrooms_per_bedroom']\n",
    "\n",
    "cat_col =['loc', 'title']"
   ]
  },
  {
   "cell_type": "markdown",
   "id": "847bf939",
   "metadata": {},
   "source": [
    "### Scaling and Encoding our Inputs"
   ]
  },
  {
   "cell_type": "code",
   "execution_count": 40,
   "id": "85dfcfa4",
   "metadata": {},
   "outputs": [],
   "source": [
    "## Scale the numeric inputs using StandardScaler\n",
    "from sklearn.preprocessing import  StandardScaler\n",
    "\n",
    "scaler = StandardScaler()\n",
    "\n",
    "train_input[num_col] = scaler.fit_transform(train_input[num_col])\n",
    "test_input[num_col] = scaler.fit_transform(test_input[num_col])"
   ]
  },
  {
   "cell_type": "code",
   "execution_count": 41,
   "id": "66cb3e8d",
   "metadata": {},
   "outputs": [
    {
     "data": {
      "text/html": [
       "<div>\n",
       "<style scoped>\n",
       "    .dataframe tbody tr th:only-of-type {\n",
       "        vertical-align: middle;\n",
       "    }\n",
       "\n",
       "    .dataframe tbody tr th {\n",
       "        vertical-align: top;\n",
       "    }\n",
       "\n",
       "    .dataframe thead th {\n",
       "        text-align: right;\n",
       "    }\n",
       "</style>\n",
       "<table border=\"1\" class=\"dataframe\">\n",
       "  <thead>\n",
       "    <tr style=\"text-align: right;\">\n",
       "      <th></th>\n",
       "      <th>loc_Abia</th>\n",
       "      <th>loc_Adamawa</th>\n",
       "      <th>loc_Akwa Ibom</th>\n",
       "      <th>loc_Anambra</th>\n",
       "      <th>loc_Bauchi</th>\n",
       "      <th>loc_Bayelsa</th>\n",
       "      <th>loc_Benue</th>\n",
       "      <th>loc_Borno</th>\n",
       "      <th>loc_Cross River</th>\n",
       "      <th>loc_Delta</th>\n",
       "      <th>...</th>\n",
       "      <th>title_Apartment</th>\n",
       "      <th>title_Bungalow</th>\n",
       "      <th>title_Cottage</th>\n",
       "      <th>title_Detached duplex</th>\n",
       "      <th>title_Flat</th>\n",
       "      <th>title_Mansion</th>\n",
       "      <th>title_Penthouse</th>\n",
       "      <th>title_Semi-detached duplex</th>\n",
       "      <th>title_Terrace duplex</th>\n",
       "      <th>title_Townhouse</th>\n",
       "    </tr>\n",
       "  </thead>\n",
       "  <tbody>\n",
       "    <tr>\n",
       "      <th>0</th>\n",
       "      <td>0</td>\n",
       "      <td>0</td>\n",
       "      <td>0</td>\n",
       "      <td>0</td>\n",
       "      <td>0</td>\n",
       "      <td>0</td>\n",
       "      <td>0</td>\n",
       "      <td>0</td>\n",
       "      <td>0</td>\n",
       "      <td>0</td>\n",
       "      <td>...</td>\n",
       "      <td>0</td>\n",
       "      <td>0</td>\n",
       "      <td>0</td>\n",
       "      <td>0</td>\n",
       "      <td>0</td>\n",
       "      <td>0</td>\n",
       "      <td>0</td>\n",
       "      <td>1</td>\n",
       "      <td>0</td>\n",
       "      <td>0</td>\n",
       "    </tr>\n",
       "    <tr>\n",
       "      <th>1</th>\n",
       "      <td>0</td>\n",
       "      <td>0</td>\n",
       "      <td>0</td>\n",
       "      <td>0</td>\n",
       "      <td>0</td>\n",
       "      <td>0</td>\n",
       "      <td>0</td>\n",
       "      <td>0</td>\n",
       "      <td>0</td>\n",
       "      <td>0</td>\n",
       "      <td>...</td>\n",
       "      <td>1</td>\n",
       "      <td>0</td>\n",
       "      <td>0</td>\n",
       "      <td>0</td>\n",
       "      <td>0</td>\n",
       "      <td>0</td>\n",
       "      <td>0</td>\n",
       "      <td>0</td>\n",
       "      <td>0</td>\n",
       "      <td>0</td>\n",
       "    </tr>\n",
       "    <tr>\n",
       "      <th>2</th>\n",
       "      <td>0</td>\n",
       "      <td>0</td>\n",
       "      <td>0</td>\n",
       "      <td>0</td>\n",
       "      <td>0</td>\n",
       "      <td>0</td>\n",
       "      <td>0</td>\n",
       "      <td>0</td>\n",
       "      <td>0</td>\n",
       "      <td>0</td>\n",
       "      <td>...</td>\n",
       "      <td>0</td>\n",
       "      <td>0</td>\n",
       "      <td>0</td>\n",
       "      <td>1</td>\n",
       "      <td>0</td>\n",
       "      <td>0</td>\n",
       "      <td>0</td>\n",
       "      <td>0</td>\n",
       "      <td>0</td>\n",
       "      <td>0</td>\n",
       "    </tr>\n",
       "    <tr>\n",
       "      <th>3</th>\n",
       "      <td>0</td>\n",
       "      <td>0</td>\n",
       "      <td>0</td>\n",
       "      <td>1</td>\n",
       "      <td>0</td>\n",
       "      <td>0</td>\n",
       "      <td>0</td>\n",
       "      <td>0</td>\n",
       "      <td>0</td>\n",
       "      <td>0</td>\n",
       "      <td>...</td>\n",
       "      <td>0</td>\n",
       "      <td>0</td>\n",
       "      <td>0</td>\n",
       "      <td>1</td>\n",
       "      <td>0</td>\n",
       "      <td>0</td>\n",
       "      <td>0</td>\n",
       "      <td>0</td>\n",
       "      <td>0</td>\n",
       "      <td>0</td>\n",
       "    </tr>\n",
       "    <tr>\n",
       "      <th>4</th>\n",
       "      <td>0</td>\n",
       "      <td>0</td>\n",
       "      <td>0</td>\n",
       "      <td>0</td>\n",
       "      <td>0</td>\n",
       "      <td>0</td>\n",
       "      <td>0</td>\n",
       "      <td>0</td>\n",
       "      <td>0</td>\n",
       "      <td>0</td>\n",
       "      <td>...</td>\n",
       "      <td>0</td>\n",
       "      <td>0</td>\n",
       "      <td>0</td>\n",
       "      <td>0</td>\n",
       "      <td>0</td>\n",
       "      <td>0</td>\n",
       "      <td>0</td>\n",
       "      <td>0</td>\n",
       "      <td>1</td>\n",
       "      <td>0</td>\n",
       "    </tr>\n",
       "  </tbody>\n",
       "</table>\n",
       "<p>5 rows × 46 columns</p>\n",
       "</div>"
      ],
      "text/plain": [
       "   loc_Abia  loc_Adamawa  loc_Akwa Ibom  loc_Anambra  loc_Bauchi  loc_Bayelsa  \\\n",
       "0         0            0              0            0           0            0   \n",
       "1         0            0              0            0           0            0   \n",
       "2         0            0              0            0           0            0   \n",
       "3         0            0              0            1           0            0   \n",
       "4         0            0              0            0           0            0   \n",
       "\n",
       "   loc_Benue  loc_Borno  loc_Cross River  loc_Delta  ...  title_Apartment  \\\n",
       "0          0          0                0          0  ...                0   \n",
       "1          0          0                0          0  ...                1   \n",
       "2          0          0                0          0  ...                0   \n",
       "3          0          0                0          0  ...                0   \n",
       "4          0          0                0          0  ...                0   \n",
       "\n",
       "   title_Bungalow  title_Cottage  title_Detached duplex  title_Flat  \\\n",
       "0               0              0                      0           0   \n",
       "1               0              0                      0           0   \n",
       "2               0              0                      1           0   \n",
       "3               0              0                      1           0   \n",
       "4               0              0                      0           0   \n",
       "\n",
       "   title_Mansion  title_Penthouse  title_Semi-detached duplex  \\\n",
       "0              0                0                           1   \n",
       "1              0                0                           0   \n",
       "2              0                0                           0   \n",
       "3              0                0                           0   \n",
       "4              0                0                           0   \n",
       "\n",
       "   title_Terrace duplex  title_Townhouse  \n",
       "0                     0                0  \n",
       "1                     0                0  \n",
       "2                     0                0  \n",
       "3                     0                0  \n",
       "4                     1                0  \n",
       "\n",
       "[5 rows x 46 columns]"
      ]
     },
     "execution_count": 41,
     "metadata": {},
     "output_type": "execute_result"
    }
   ],
   "source": [
    "## Encoding the categorical inputs using One-Hot Encoding(get_dummies)\n",
    "\n",
    "train_dummies = pd.get_dummies(train_input[cat_col])\n",
    "test_dummies = pd.get_dummies(test_input[cat_col])\n",
    "train_dummies.head()"
   ]
  },
  {
   "cell_type": "markdown",
   "id": "5d809879",
   "metadata": {},
   "source": [
    "Now that we have scaled the numeric inputs and encoded the categorical inputs, we merge them using a pandas method 'concat()'."
   ]
  },
  {
   "cell_type": "code",
   "execution_count": 42,
   "id": "baad0307",
   "metadata": {},
   "outputs": [],
   "source": [
    "## Merging our scaled and encoded inputs\n",
    "train_data =  pd.concat([train_dummies, train_input], axis=1)\n",
    "test_data =  pd.concat([test_dummies, test_input], axis=1)\n",
    "\n",
    "## We will be dropping the the original 'loc & title' columns since we've encoded each value in them\n",
    "train_data.drop(columns=cat_col, inplace=True)\n",
    "test_data.drop(columns=cat_col, inplace=True)"
   ]
  },
  {
   "cell_type": "code",
   "execution_count": 43,
   "id": "8fd69ab2",
   "metadata": {
    "scrolled": true
   },
   "outputs": [
    {
     "data": {
      "text/html": [
       "<div>\n",
       "<style scoped>\n",
       "    .dataframe tbody tr th:only-of-type {\n",
       "        vertical-align: middle;\n",
       "    }\n",
       "\n",
       "    .dataframe tbody tr th {\n",
       "        vertical-align: top;\n",
       "    }\n",
       "\n",
       "    .dataframe thead th {\n",
       "        text-align: right;\n",
       "    }\n",
       "</style>\n",
       "<table border=\"1\" class=\"dataframe\">\n",
       "  <thead>\n",
       "    <tr style=\"text-align: right;\">\n",
       "      <th></th>\n",
       "      <th>loc_Abia</th>\n",
       "      <th>loc_Adamawa</th>\n",
       "      <th>loc_Akwa Ibom</th>\n",
       "      <th>loc_Anambra</th>\n",
       "      <th>loc_Bauchi</th>\n",
       "      <th>loc_Bayelsa</th>\n",
       "      <th>loc_Benue</th>\n",
       "      <th>loc_Borno</th>\n",
       "      <th>loc_Cross River</th>\n",
       "      <th>loc_Delta</th>\n",
       "      <th>...</th>\n",
       "      <th>title_Mansion</th>\n",
       "      <th>title_Penthouse</th>\n",
       "      <th>title_Semi-detached duplex</th>\n",
       "      <th>title_Terrace duplex</th>\n",
       "      <th>title_Townhouse</th>\n",
       "      <th>bedroom</th>\n",
       "      <th>bathroom</th>\n",
       "      <th>parking_space</th>\n",
       "      <th>total_area</th>\n",
       "      <th>avg_bathrooms_per_bedroom</th>\n",
       "    </tr>\n",
       "  </thead>\n",
       "  <tbody>\n",
       "    <tr>\n",
       "      <th>0</th>\n",
       "      <td>0</td>\n",
       "      <td>0</td>\n",
       "      <td>0</td>\n",
       "      <td>0</td>\n",
       "      <td>0</td>\n",
       "      <td>0</td>\n",
       "      <td>0</td>\n",
       "      <td>0</td>\n",
       "      <td>0</td>\n",
       "      <td>0</td>\n",
       "      <td>...</td>\n",
       "      <td>0</td>\n",
       "      <td>0</td>\n",
       "      <td>1</td>\n",
       "      <td>0</td>\n",
       "      <td>0</td>\n",
       "      <td>-1.094769</td>\n",
       "      <td>-0.432622</td>\n",
       "      <td>-1.429773</td>\n",
       "      <td>-1.384062</td>\n",
       "      <td>0.447209</td>\n",
       "    </tr>\n",
       "    <tr>\n",
       "      <th>1</th>\n",
       "      <td>0</td>\n",
       "      <td>0</td>\n",
       "      <td>0</td>\n",
       "      <td>0</td>\n",
       "      <td>0</td>\n",
       "      <td>0</td>\n",
       "      <td>0</td>\n",
       "      <td>0</td>\n",
       "      <td>0</td>\n",
       "      <td>0</td>\n",
       "      <td>...</td>\n",
       "      <td>0</td>\n",
       "      <td>0</td>\n",
       "      <td>0</td>\n",
       "      <td>0</td>\n",
       "      <td>0</td>\n",
       "      <td>-0.430412</td>\n",
       "      <td>-0.432622</td>\n",
       "      <td>0.585927</td>\n",
       "      <td>-0.217765</td>\n",
       "      <td>-0.337018</td>\n",
       "    </tr>\n",
       "    <tr>\n",
       "      <th>2</th>\n",
       "      <td>0</td>\n",
       "      <td>0</td>\n",
       "      <td>0</td>\n",
       "      <td>0</td>\n",
       "      <td>0</td>\n",
       "      <td>0</td>\n",
       "      <td>0</td>\n",
       "      <td>0</td>\n",
       "      <td>0</td>\n",
       "      <td>0</td>\n",
       "      <td>...</td>\n",
       "      <td>0</td>\n",
       "      <td>0</td>\n",
       "      <td>0</td>\n",
       "      <td>0</td>\n",
       "      <td>0</td>\n",
       "      <td>1.119756</td>\n",
       "      <td>1.320140</td>\n",
       "      <td>-0.085973</td>\n",
       "      <td>1.207710</td>\n",
       "      <td>-0.075609</td>\n",
       "    </tr>\n",
       "    <tr>\n",
       "      <th>3</th>\n",
       "      <td>0</td>\n",
       "      <td>0</td>\n",
       "      <td>0</td>\n",
       "      <td>1</td>\n",
       "      <td>0</td>\n",
       "      <td>0</td>\n",
       "      <td>0</td>\n",
       "      <td>0</td>\n",
       "      <td>0</td>\n",
       "      <td>0</td>\n",
       "      <td>...</td>\n",
       "      <td>0</td>\n",
       "      <td>0</td>\n",
       "      <td>0</td>\n",
       "      <td>0</td>\n",
       "      <td>0</td>\n",
       "      <td>0.233946</td>\n",
       "      <td>-0.432622</td>\n",
       "      <td>0.585927</td>\n",
       "      <td>0.171001</td>\n",
       "      <td>-0.650709</td>\n",
       "    </tr>\n",
       "    <tr>\n",
       "      <th>4</th>\n",
       "      <td>0</td>\n",
       "      <td>0</td>\n",
       "      <td>0</td>\n",
       "      <td>0</td>\n",
       "      <td>0</td>\n",
       "      <td>0</td>\n",
       "      <td>0</td>\n",
       "      <td>0</td>\n",
       "      <td>0</td>\n",
       "      <td>0</td>\n",
       "      <td>...</td>\n",
       "      <td>0</td>\n",
       "      <td>0</td>\n",
       "      <td>0</td>\n",
       "      <td>1</td>\n",
       "      <td>0</td>\n",
       "      <td>0.233946</td>\n",
       "      <td>1.320140</td>\n",
       "      <td>1.929728</td>\n",
       "      <td>1.466887</td>\n",
       "      <td>0.447209</td>\n",
       "    </tr>\n",
       "  </tbody>\n",
       "</table>\n",
       "<p>5 rows × 51 columns</p>\n",
       "</div>"
      ],
      "text/plain": [
       "   loc_Abia  loc_Adamawa  loc_Akwa Ibom  loc_Anambra  loc_Bauchi  loc_Bayelsa  \\\n",
       "0         0            0              0            0           0            0   \n",
       "1         0            0              0            0           0            0   \n",
       "2         0            0              0            0           0            0   \n",
       "3         0            0              0            1           0            0   \n",
       "4         0            0              0            0           0            0   \n",
       "\n",
       "   loc_Benue  loc_Borno  loc_Cross River  loc_Delta  ...  title_Mansion  \\\n",
       "0          0          0                0          0  ...              0   \n",
       "1          0          0                0          0  ...              0   \n",
       "2          0          0                0          0  ...              0   \n",
       "3          0          0                0          0  ...              0   \n",
       "4          0          0                0          0  ...              0   \n",
       "\n",
       "   title_Penthouse  title_Semi-detached duplex  title_Terrace duplex  \\\n",
       "0                0                           1                     0   \n",
       "1                0                           0                     0   \n",
       "2                0                           0                     0   \n",
       "3                0                           0                     0   \n",
       "4                0                           0                     1   \n",
       "\n",
       "   title_Townhouse   bedroom  bathroom  parking_space  total_area  \\\n",
       "0                0 -1.094769 -0.432622      -1.429773   -1.384062   \n",
       "1                0 -0.430412 -0.432622       0.585927   -0.217765   \n",
       "2                0  1.119756  1.320140      -0.085973    1.207710   \n",
       "3                0  0.233946 -0.432622       0.585927    0.171001   \n",
       "4                0  0.233946  1.320140       1.929728    1.466887   \n",
       "\n",
       "   avg_bathrooms_per_bedroom  \n",
       "0                   0.447209  \n",
       "1                  -0.337018  \n",
       "2                  -0.075609  \n",
       "3                  -0.650709  \n",
       "4                   0.447209  \n",
       "\n",
       "[5 rows x 51 columns]"
      ]
     },
     "execution_count": 43,
     "metadata": {},
     "output_type": "execute_result"
    }
   ],
   "source": [
    "train_data.head()"
   ]
  },
  {
   "cell_type": "code",
   "execution_count": 44,
   "id": "c6e686f5",
   "metadata": {},
   "outputs": [],
   "source": [
    "## Assigning train_data(inputs) to 'X' and assigning train_target(target) to 'y'\n",
    "X = train_data\n",
    "y = train_target"
   ]
  },
  {
   "cell_type": "markdown",
   "id": "197737a0",
   "metadata": {},
   "source": [
    "Now, we'll split our train dataset into train and validation sets since our test data doesn't have the target column in it and we will need to evaluate the accuracy of our model before using it to predicts on our test data.\n",
    "\n",
    "We'll split in the percentage of 80-20, that is; 80% of the data for training and 20% for validation."
   ]
  },
  {
   "cell_type": "code",
   "execution_count": 45,
   "id": "2f55e3ab",
   "metadata": {},
   "outputs": [],
   "source": [
    "## Splitting into train and validation sets\n",
    "from sklearn.model_selection import train_test_split\n",
    "\n",
    "X_train, X_val, Y_train, Y_val = train_test_split(X,y, test_size=0.2, random_state=42)"
   ]
  },
  {
   "cell_type": "code",
   "execution_count": 46,
   "id": "dedccf5a",
   "metadata": {},
   "outputs": [
    {
     "name": "stdout",
     "output_type": "stream",
     "text": [
      "X_train Shape: (8834, 51)\n",
      "Y_train Shape: (8834,)\n",
      "X_val Shape: (2209, 51)\n",
      "Y_val Shape: (2209,)\n"
     ]
    }
   ],
   "source": [
    "print('X_train Shape: {}'.format(X_train.shape))\n",
    "print('Y_train Shape: {}'.format(Y_train.shape))\n",
    "print('X_val Shape: {}'.format(X_val.shape))\n",
    "print('Y_val Shape: {}'.format(Y_val.shape))"
   ]
  },
  {
   "cell_type": "markdown",
   "id": "58964c3a",
   "metadata": {},
   "source": [
    "The train dataset has properly been splitted into train and validation sets\n",
    "\n",
    "---"
   ]
  },
  {
   "cell_type": "markdown",
   "id": "405558b0",
   "metadata": {},
   "source": [
    "## Training and Evaluating the Model Performance"
   ]
  },
  {
   "cell_type": "code",
   "execution_count": 47,
   "id": "d61be3e2",
   "metadata": {},
   "outputs": [],
   "source": [
    "from sklearn.metrics import mean_squared_error\n",
    "\n",
    "\n",
    "## creating a custom function to train and evaluate the performance of our model using 'RMSE'\n",
    "def evaluate(train_x, train_y, val_x, val_y, model):\n",
    "    model.fit(train_x, train_y)\n",
    "    train_pred = model.predict(train_x)\n",
    "    val_pred = model.predict(val_x)\n",
    "    rmse_train = np.sqrt(mean_squared_error(train_pred, train_y))\n",
    "    rmse_val = np.sqrt(mean_squared_error(val_pred, val_y))\n",
    "    print('Train RMSE : {}'.format(rmse_train))\n",
    "    print('Validation RMSE : {}'.format(rmse_val))\n",
    "    "
   ]
  },
  {
   "cell_type": "markdown",
   "id": "c9646ae1",
   "metadata": {},
   "source": [
    "\n",
    "### Using Support Vector Regressor (SVR)"
   ]
  },
  {
   "cell_type": "code",
   "execution_count": 48,
   "id": "d16c0560",
   "metadata": {},
   "outputs": [
    {
     "name": "stdout",
     "output_type": "stream",
     "text": [
      "Train RMSE : 0.20576353468531708\n",
      "Validation RMSE : 0.21110477236859926\n"
     ]
    }
   ],
   "source": [
    "##import svr\n",
    "from sklearn.svm import SVR\n",
    "\n",
    "## create an instance of the SVR class\n",
    "svr_model = SVR(C=10, coef0=-1, degree=2, epsilon=0.01, gamma='auto', kernel='linear', tol=1e-05)\n",
    "\n",
    "## Evalute the model with the custom evaluation function created above\n",
    "evaluate(X_train, Y_train,X_val, Y_val, svr_model)"
   ]
  },
  {
   "cell_type": "code",
   "execution_count": 49,
   "id": "a631831b",
   "metadata": {},
   "outputs": [
    {
     "data": {
      "text/plain": [
       "array([2276492.83468153, 1106587.98710601, 1311971.64605015, ...,\n",
       "       2017938.88906935, 1366919.86588767, 3269476.94613983])"
      ]
     },
     "execution_count": 49,
     "metadata": {},
     "output_type": "execute_result"
    }
   ],
   "source": [
    "## get our model's predictions and store them in a variable 'log_predictions' because we applied log transformation to our target earlier\n",
    "log_predictions = svr_model.predict(test_data)\n",
    "\n",
    "# Apply reverse transformation to obtain predictions in the original price scale\n",
    "original_predictions30 = np.expm1(log_predictions)\n",
    "\n",
    "original_predictions30"
   ]
  },
  {
   "cell_type": "code",
   "execution_count": 50,
   "id": "f2e61433",
   "metadata": {},
   "outputs": [],
   "source": [
    "## creating a dataframe with 2 columns 'ID' and its predicted price\n",
    "submission_data = pd.DataFrame({'ID': test_df['ID'], 'Price': original_predictions30})\n",
    "\n",
    "#submission_data to csv file\n",
    "submission_data.to_csv('test_predictions30.csv', index=False)"
   ]
  },
  {
   "cell_type": "markdown",
   "id": "c1eac8bc",
   "metadata": {},
   "source": [
    "### Using XGBoost Regressor"
   ]
  },
  {
   "cell_type": "code",
   "execution_count": 51,
   "id": "92571115",
   "metadata": {},
   "outputs": [],
   "source": [
    "from xgboost import XGBRegressor\n",
    "xgbmodel = XGBRegressor(subsample=0.6, reg_lambda=10, reg_alpha=0.01, n_estimators=300, min_child_weight=3, max_depth=3, learning_rate=0.2, gamma=0.2, colsample_bytree=0.8)\n"
   ]
  },
  {
   "cell_type": "code",
   "execution_count": 76,
   "id": "e5c3badb",
   "metadata": {},
   "outputs": [
    {
     "name": "stdout",
     "output_type": "stream",
     "text": [
      "Train RMSE : 0.18625366296163953\n",
      "Validation RMSE : 0.19878235952033774\n"
     ]
    }
   ],
   "source": [
    "evaluate(X_train, Y_train,X_val, Y_val, xgbmodel)"
   ]
  },
  {
   "cell_type": "markdown",
   "id": "17b18b06",
   "metadata": {},
   "source": [
    "## Feature Importance"
   ]
  },
  {
   "cell_type": "code",
   "execution_count": 52,
   "id": "191e17e6",
   "metadata": {},
   "outputs": [
    {
     "data": {
      "text/plain": [
       "XGBRegressor(base_score=None, booster=None, callbacks=None,\n",
       "             colsample_bylevel=None, colsample_bynode=None,\n",
       "             colsample_bytree=0.8, early_stopping_rounds=None,\n",
       "             enable_categorical=False, eval_metric=None, feature_types=None,\n",
       "             gamma=0.2, gpu_id=None, grow_policy=None, importance_type=None,\n",
       "             interaction_constraints=None, learning_rate=0.2, max_bin=None,\n",
       "             max_cat_threshold=None, max_cat_to_onehot=None,\n",
       "             max_delta_step=None, max_depth=3, max_leaves=None,\n",
       "             min_child_weight=3, missing=nan, monotone_constraints=None,\n",
       "             n_estimators=300, n_jobs=None, num_parallel_tree=None,\n",
       "             predictor=None, random_state=None, ...)"
      ]
     },
     "execution_count": 52,
     "metadata": {},
     "output_type": "execute_result"
    }
   ],
   "source": [
    "xgbmodel.fit(X_train, Y_train)"
   ]
  },
  {
   "cell_type": "code",
   "execution_count": 53,
   "id": "bbb53e59",
   "metadata": {},
   "outputs": [],
   "source": [
    "# Get feature importance scores\n",
    "feature_importance = xgbmodel.feature_importances_\n",
    "\n",
    "# Create a DataFrame to store feature names and their importance scores\n",
    "feature_importance_df = pd.DataFrame({'Feature': X_train.columns, 'Importance': feature_importance})\n",
    "\n",
    "#Rearranging the dataframe in descending order based of the feature importance score\n",
    "feature_importance_df = feature_importance_df.sort_values(by='Importance', ascending=False)"
   ]
  },
  {
   "cell_type": "code",
   "execution_count": 109,
   "id": "138d6ede",
   "metadata": {},
   "outputs": [
    {
     "data": {
      "image/png": "[encoded data removed]",
      "text/plain": [
       "<Figure size 1400x600 with 1 Axes>"
      ]
     },
     "metadata": {},
     "output_type": "display_data"
    }
   ],
   "source": [
    "# Create the bar plot\n",
    "fig, ax = plt.subplots(figsize=(14, 6))\n",
    "ax.bar(feature_importance_df['Feature'], feature_importance_df['Importance'], color='blue')\n",
    "ax.set_xticklabels(feature_importance_df['Feature'], rotation=45, ha='right')\n",
    "ax.set_xlabel('Feature', fontsize=20)\n",
    "ax.set_ylabel('Importance', fontsize=20)\n",
    "ax.set_title('Feature Importance On House Price Prediction', fontsize=35)\n",
    "\n",
    "plt.tight_layout()\n",
    "plt.show()\n"
   ]
  },
  {
   "cell_type": "markdown",
   "id": "e384a468",
   "metadata": {},
   "source": [
    "`Title_Mansion` has the highest feature importance with a value of 0.074971. This suggests that the type of house being a Mansion plays a significant role in predicting the house price. Properties labeled as Mansions tend to have higher prices compared to other house types.\n",
    "\n",
    "`The number of bedrooms (feature bedroom)` is the second most important feature with an importance of 0.071288. The number of bedrooms in a property is a crucial factor in determining its price, as larger properties with more bedrooms are generally more expensive.\n",
    "\n",
    "`Title_Penthouse` is the third most important feature with an importance of 0.067058. Penthouse properties often offer luxurious amenities and exclusive features, leading to higher prices.\n",
    "\n",
    "`The location of Lagos (feature loc_Lagos)` has considerable importance (0.060300) in predicting house prices. Lagos, being a major economic and commercial hub in Nigeria, tends to have higher property prices compared to other locations.\n",
    "\n",
    "Other location features, such as `Akwa Ibom, Bayelsa, and Kebbi`, also play significant roles in predicting house prices, suggesting that the location of a property is a crucial factor in its valuation.\n",
    "\n",
    "`Total area (feature total_area)` is another important predictor with an importance of 0.037996. Larger properties with more total area generally command higher prices.\n",
    "\n",
    "Features related to the type of property, such as `title_Apartment, title_Detached duplex, title_Cottage, and title_Bungalow`, also contribute to predicting house prices, indicating that the architectural style of a property impacts its price.\n",
    "\n",
    "Features with relatively lower importances, `like bathroom, parking_space, avg_bathrooms_per_bedroom, etc.`, still have some influence on the predictions but are not as crucial as the top features.\n",
    "\n",
    "In conclusion, this analysis provides valuable insights into the factors influencing house prices. The features related to the property type, location, and size are of utmost importance in predicting house prices. Understanding these influential factors can help real estate companies make informed decisions, such as pricing their properties competitively and enhancing customer satisfaction."
   ]
  },
  {
   "cell_type": "code",
   "execution_count": null,
   "id": "5042c12d",
   "metadata": {},
   "outputs": [],
   "source": []
  }
 ],
 "metadata": {
  "kernelspec": {
   "display_name": "Python 3 (ipykernel)",
   "language": "python",
   "name": "python3"
  },
  "language_info": {
   "codemirror_mode": {
    "name": "ipython",
    "version": 3
   },
   "file_extension": ".py",
   "mimetype": "text/x-python",
   "name": "python",
   "nbconvert_exporter": "python",
   "pygments_lexer": "ipython3",
   "version": "3.9.13"
  }
 },
 "nbformat": 4,
 "nbformat_minor": 5
}
